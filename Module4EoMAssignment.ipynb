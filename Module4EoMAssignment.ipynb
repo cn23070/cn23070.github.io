{
  "nbformat": 4,
  "nbformat_minor": 0,
  "metadata": {
    "colab": {
      "provenance": [],
      "authorship_tag": "ABX9TyM28P1CAAw0T3EyB92fjd2V",
      "include_colab_link": true
    },
    "kernelspec": {
      "name": "python3",
      "display_name": "Python 3"
    },
    "language_info": {
      "name": "python"
    }
  },
  "cells": [
    {
      "cell_type": "markdown",
      "metadata": {
        "id": "view-in-github",
        "colab_type": "text"
      },
      "source": [
        "<a href=\"https://colab.research.google.com/github/cn23070/cn23070.github.io/blob/main/Module4EoMAssignment.ipynb\" target=\"_parent\"><img src=\"https://colab.research.google.com/assets/colab-badge.svg\" alt=\"Open In Colab\"/></a>"
      ]
    },
    {
      "cell_type": "markdown",
      "source": [
        "1. Import Required Libraries"
      ],
      "metadata": {
        "id": "lBsXYqgs_pbF"
      }
    },
    {
      "cell_type": "code",
      "execution_count": 72,
      "metadata": {
        "id": "7-eA9TDvKsUS"
      },
      "outputs": [],
      "source": [
        "import sqlite3  # For SQLite database operations\n",
        "from hashlib import sha256  # For generating checksums and password hashing\n",
        "from datetime import datetime  # For handling timestamps\n",
        "from cryptography.fernet import Fernet  # For encryption and decryption\n",
        "import os  # For secure key storage\n",
        "import getpass  # For securely getting the password input"
      ]
    },
    {
      "cell_type": "markdown",
      "source": [
        "2. Define Classes"
      ],
      "metadata": {
        "id": "MApa22Qg_uY0"
      }
    },
    {
      "cell_type": "code",
      "source": [
        "#UserRole Enum\n",
        "from enum import Enum\n",
        "\n",
        "class UserRole(Enum):\n",
        "    ADMIN = \"admin\"\n",
        "    REGULAR_USER = \"regular_user\""
      ],
      "metadata": {
        "id": "Xlw4L_nH_yYi"
      },
      "execution_count": 43,
      "outputs": []
    },
    {
      "cell_type": "markdown",
      "source": [
        "3. User Class"
      ],
      "metadata": {
        "id": "hQz-g9dXAeKe"
      }
    },
    {
      "cell_type": "code",
      "source": [
        "class User:\n",
        "    def __init__(self, user_id, username, password_hash, role):\n",
        "        self.user_id = user_id\n",
        "        self.username = username\n",
        "        self.password_hash = password_hash\n",
        "        self.role = role\n",
        "\n",
        "    def set_password(self, password):\n",
        "        \"\"\"Hashes the password and stores it securely.\"\"\"\n",
        "        self.password_hash = sha256(password.encode()).hexdigest()\n",
        "\n",
        "    def check_password(self, password):\n",
        "        \"\"\"Verifies the entered password against the stored hash.\"\"\"\n",
        "        return self.password_hash == sha256(password.encode()).hexdigest()\n",
        "\n",
        "    def get_role(self):\n",
        "        \"\"\"Returns the role of the user.\"\"\"\n",
        "        return self.role\n",
        "\n",
        "    def get_user_id(self):\n",
        "        \"\"\"Returns the user ID.\"\"\"\n",
        "        return self.user_id\n",
        "\n",
        "    def get_username(self):\n",
        "        \"\"\"Returns the username.\"\"\"\n",
        "        return self.username\n",
        "\n",
        "    def get_password_hash(self):\n",
        "        \"\"\"Returns the password hash.\"\"\"\n",
        "        return self.password_hash\n",
        "\n",
        "\n"
      ],
      "metadata": {
        "id": "66uGg9i-AhsU"
      },
      "execution_count": 39,
      "outputs": []
    },
    {
      "cell_type": "markdown",
      "source": [
        "4. Administrator Class"
      ],
      "metadata": {
        "id": "vOGI_DT5BJYH"
      }
    },
    {
      "cell_type": "code",
      "source": [
        "class Administrator(User):\n",
        "    def create_artefact(self, artefact, db_manager):\n",
        "        \"\"\"Allows the admin to create and store an artefact.\"\"\"\n",
        "        db_manager.store_artefact(artefact)\n",
        "\n",
        "    def delete_artefact(self, artefact_id, db_manager):\n",
        "        \"\"\"Allows the admin to delete an artefact.\"\"\"\n",
        "        db_manager.delete_artefact(artefact_id)\n",
        "\n",
        "    def view_artefact(self, artefact_id, db_manager):\n",
        "        \"\"\"Allows the admin to view an artefact.\"\"\"\n",
        "        return db_manager.retrieve_artefact(artefact_id)\n"
      ],
      "metadata": {
        "id": "y12ylRx9BOA9"
      },
      "execution_count": 44,
      "outputs": []
    },
    {
      "cell_type": "markdown",
      "source": [
        "5. RegularUser Class"
      ],
      "metadata": {
        "id": "slieBIcWBT94"
      }
    },
    {
      "cell_type": "code",
      "source": [
        "class RegularUser(User):\n",
        "    def upload_artefact(self, artefact, db_manager):\n",
        "        \"\"\"Allows the user to upload their own artefact.\"\"\"\n",
        "        if artefact.owner_id == self.user_id:\n",
        "            db_manager.store_artefact(artefact)\n",
        "\n",
        "    def modify_artefact(self, artefact, db_manager):\n",
        "        \"\"\"Allows the user to modify their own artefact.\"\"\"\n",
        "        existing_artefact = db_manager.retrieve_artefact(artefact.artefact_id)\n",
        "        if existing_artefact.owner_id == self.user_id:\n",
        "            db_manager.update_artefact(artefact)\n",
        "\n",
        "    def view_artefact(self, artefact_id, db_manager):\n",
        "        \"\"\"Allows the user to view an artefact.\"\"\"\n",
        "        artefact = db_manager.retrieve_artefact(artefact_id)\n",
        "        if artefact.owner_id == self.user_id or self.role == UserRole.ADMIN:\n",
        "            return artefact\n"
      ],
      "metadata": {
        "id": "AijIWC8IBaXQ"
      },
      "execution_count": 45,
      "outputs": []
    },
    {
      "cell_type": "markdown",
      "source": [
        "6. Artifact Class"
      ],
      "metadata": {
        "id": "Qy8m6NmbBcn_"
      }
    },
    {
      "cell_type": "code",
      "source": [
        "class Artefact:\n",
        "    def __init__(self, artefact_id, title, content, owner_id):\n",
        "        self.artefact_id = artefact_id\n",
        "        self.title = title\n",
        "        self.content = content\n",
        "        self.checksum = self.generate_checksum(content)\n",
        "        self.encrypted_content = None\n",
        "        self.timestamps = self.create_timestamp()\n",
        "        self.owner_id = owner_id\n",
        "\n",
        "    def generate_checksum(self, data):\n",
        "        \"\"\"Generates a checksum to verify data integrity.\"\"\"\n",
        "        return sha256(data).hexdigest()\n",
        "\n",
        "    def encrypt_content(self, encryption_manager):\n",
        "        \"\"\"Encrypts the content using the EncryptionManager.\"\"\"\n",
        "        self.encrypted_content = encryption_manager.encrypt(self.content)\n",
        "\n",
        "    def decrypt_content(self, encryption_manager):\n",
        "        \"\"\"Decrypts the content using the EncryptionManager.\"\"\"\n",
        "        return encryption_manager.decrypt(self.encrypted_content)\n",
        "\n",
        "    def create_timestamp(self):\n",
        "        \"\"\"Creates a timestamp for the artefact.\"\"\"\n",
        "        return datetime.now().strftime(\"%Y-%m-%d %H:%M:%S\")\n"
      ],
      "metadata": {
        "id": "OoJDEHgABf_p"
      },
      "execution_count": 46,
      "outputs": []
    },
    {
      "cell_type": "markdown",
      "source": [
        "7. EncryptionManager Class"
      ],
      "metadata": {
        "id": "ePRcTcuRBmYh"
      }
    },
    {
      "cell_type": "code",
      "source": [
        "class EncryptionManager:\n",
        "    def __init__(self):\n",
        "        \"\"\"Initializes the encryption manager with a secure key.\"\"\"\n",
        "        self.key = Fernet.generate_key()\n",
        "        self.cipher = Fernet(self.key)\n",
        "\n",
        "    def encrypt(self, data):\n",
        "        \"\"\"Encrypts the provided data.\"\"\"\n",
        "        return self.cipher.encrypt(data)\n",
        "\n",
        "    def decrypt(self, data):\n",
        "        \"\"\"Decrypts the provided data.\"\"\"\n",
        "        return self.cipher.decrypt(data)\n"
      ],
      "metadata": {
        "id": "4o5hkhE6BqWg"
      },
      "execution_count": 47,
      "outputs": []
    },
    {
      "cell_type": "markdown",
      "source": [
        "8. ChecksumManager Class"
      ],
      "metadata": {
        "id": "rfRnpH-sBtCk"
      }
    },
    {
      "cell_type": "code",
      "source": [
        "class ChecksumManager:\n",
        "    @staticmethod\n",
        "    def generate_checksum(data):\n",
        "        \"\"\"Generates a checksum for the provided data.\"\"\"\n",
        "        return sha256(data).hexdigest()\n",
        "\n",
        "    @staticmethod\n",
        "    def verify_checksum(data, checksum):\n",
        "        \"\"\"Verifies the checksum of the provided data.\"\"\"\n",
        "        return sha256(data).hexdigest() == checksum\n"
      ],
      "metadata": {
        "id": "5XoO3B_9BwqK"
      },
      "execution_count": 48,
      "outputs": []
    },
    {
      "cell_type": "markdown",
      "source": [
        "9. TimestampManager Class"
      ],
      "metadata": {
        "id": "IlAfplMJByDr"
      }
    },
    {
      "cell_type": "code",
      "source": [
        "class TimestampManager:\n",
        "    @staticmethod\n",
        "    def create_timestamp():\n",
        "        \"\"\"Creates a current timestamp.\"\"\"\n",
        "        return datetime.now().strftime(\"%Y-%m-%d %H:%M:%S\")\n",
        "\n",
        "    @staticmethod\n",
        "    def update_timestamp():\n",
        "        \"\"\"Updates the timestamp.\"\"\"\n",
        "        return datetime.now().strftime(\"%Y-%m-%d %H:%M:%S\")\n"
      ],
      "metadata": {
        "id": "rM1czq8FB1QS"
      },
      "execution_count": 49,
      "outputs": []
    },
    {
      "cell_type": "markdown",
      "source": [
        "10. DatabaseManager Class (with SQLite Integration)"
      ],
      "metadata": {
        "id": "HK-v1KbaB-hN"
      }
    },
    {
      "cell_type": "code",
      "source": [
        "class DatabaseManager:\n",
        "    def __init__(self, db_name=\"secure_enclave.db\"):\n",
        "        \"\"\"Initializes the database manager and connects to the SQLite database.\"\"\"\n",
        "        self.db_name = db_name\n",
        "        self.connect_to_db()\n",
        "\n",
        "    def connect_to_db(self):\n",
        "        \"\"\"Connects to the SQLite database.\"\"\"\n",
        "        self.db_connection = sqlite3.connect(self.db_name)\n",
        "        self.db_cursor = self.db_connection.cursor()\n",
        "        self.create_tables()\n",
        "\n",
        "    def create_tables(self):\n",
        "        \"\"\"Creates the necessary tables if they don't exist.\"\"\"\n",
        "        self.db_cursor.execute('''CREATE TABLE IF NOT EXISTS Users (\n",
        "                                    user_id INTEGER PRIMARY KEY AUTOINCREMENT,\n",
        "                                    username TEXT UNIQUE NOT NULL,\n",
        "                                    password_hash TEXT NOT NULL,\n",
        "                                    role TEXT NOT NULL)''')\n",
        "\n",
        "        self.db_cursor.execute('''CREATE TABLE IF NOT EXISTS Artefacts (\n",
        "                                    artefact_id INTEGER PRIMARY KEY AUTOINCREMENT,\n",
        "                                    title TEXT NOT NULL,\n",
        "                                    content BLOB NOT NULL,\n",
        "                                    checksum TEXT NOT NULL,\n",
        "                                    encrypted_content BLOB NOT NULL,\n",
        "                                    timestamps TEXT NOT NULL,\n",
        "                                    owner_id INTEGER NOT NULL,\n",
        "                                    FOREIGN KEY(owner_id) REFERENCES Users(user_id))''')\n",
        "\n",
        "        self.db_cursor.execute('''CREATE TABLE IF NOT EXISTS Logs (\n",
        "                                    log_id INTEGER PRIMARY KEY AUTOINCREMENT,\n",
        "                                    action TEXT NOT NULL,\n",
        "                                    user_id INTEGER,\n",
        "                                    artefact_id INTEGER,\n",
        "                                    timestamp TEXT NOT NULL,\n",
        "                                    FOREIGN KEY(user_id) REFERENCES Users(user_id),\n",
        "                                    FOREIGN KEY(artefact_id) REFERENCES Artefacts(artefact_id))''')\n",
        "\n",
        "        self.db_connection.commit()\n",
        "\n",
        "    def store_artefact(self, artefact):\n",
        "        \"\"\"Stores an artefact in the database.\"\"\"\n",
        "        self.db_cursor.execute('''INSERT INTO Artefacts (title, content, checksum, encrypted_content, timestamps, owner_id)\n",
        "                                  VALUES (?, ?, ?, ?, ?, ?)''',\n",
        "                               (artefact.title, artefact.content, artefact.checksum,\n",
        "                                artefact.encrypted_content, artefact.timestamps, artefact.owner_id))\n",
        "        self.db_connection.commit()\n",
        "\n",
        "    def retrieve_artefact(self, artefact_id):\n",
        "        \"\"\"Retrieves an artefact by its ID.\"\"\"\n",
        "        self.db_cursor.execute('SELECT * FROM Artefacts WHERE artefact_id = ?', (artefact_id,))\n",
        "        row = self.db_cursor.fetchone()\n",
        "        if row:\n",
        "            return Artefact(row[0], row[1], row[2], row[6])\n",
        "        return None\n",
        "\n",
        "    def update_artefact(self, artefact):\n",
        "        \"\"\"Updates an existing artefact.\"\"\"\n",
        "        self.db_cursor.execute('''UPDATE Artefacts\n",
        "                                  SET title = ?, content = ?, checksum = ?, encrypted_content = ?, timestamps = ?\n",
        "                                  WHERE artefact_id = ?''',\n",
        "                               (artefact.title, artefact.content, artefact.checksum,\n",
        "                                artefact.encrypted_content, artefact.timestamps, artefact.artefact_id))\n",
        "        self.db_connection.commit()\n",
        "\n",
        "    def delete_artefact(self, artefact_id):\n",
        "        \"\"\"Deletes an artefact by its ID.\"\"\"\n",
        "        self.db_cursor.execute('DELETE FROM Artefacts WHERE artefact_id = ?', (artefact_id,))\n",
        "        self.db_connection.commit()\n",
        "\n",
        "    def get_user(self, user_id):\n",
        "        \"\"\"Retrieves user details by user ID.\"\"\"\n",
        "        self.db_cursor.execute('SELECT * FROM Users WHERE user_id = ?', (user_id,))\n",
        "        row = self.db_cursor.fetchone()\n",
        "        if row:\n",
        "            return User(row[0], row[1], row[2], UserRole(row[3]))\n",
        "        return None\n"
      ],
      "metadata": {
        "id": "mdk-nxM9CCBq"
      },
      "execution_count": 50,
      "outputs": []
    },
    {
      "cell_type": "markdown",
      "source": [
        "11. Logger Class"
      ],
      "metadata": {
        "id": "5EGCHgb0CSyS"
      }
    },
    {
      "cell_type": "code",
      "source": [
        "class Logger:\n",
        "    def __init__(self, db_manager):\n",
        "        \"\"\"Initializes the logger with a reference to the database manager.\"\"\"\n",
        "        self.db_manager = db_manager\n",
        "\n",
        "    def log_event(self, event, user_id=None, artefact_id=None):\n",
        "        \"\"\"Logs a system event.\"\"\"\n",
        "        timestamp = TimestampManager.create_timestamp()\n",
        "        self.db_manager.db_cursor.execute('''INSERT INTO Logs (action, user_id, artefact_id, timestamp)\n",
        "                                             VALUES (?, ?, ?, ?)''',\n",
        "                                          (event, user_id, artefact_id, timestamp))\n",
        "        self.db_manager.db_connection.commit()\n",
        "\n",
        "    def log_error(self, error, user_id=None):\n",
        "        \"\"\"Logs an error message.\"\"\"\n",
        "        timestamp = TimestampManager.create_timestamp()\n",
        "        self.db_manager.db_cursor.execute('''INSERT INTO Logs (action, user_id, timestamp)\n",
        "                                             VALUES (?, ?, ?)''',\n",
        "                                          (f\"ERROR: {error}\", user_id, timestamp))\n",
        "        self.db_manager.db_connection.commit()\n"
      ],
      "metadata": {
        "id": "I4Hpfg79CVxM"
      },
      "execution_count": 51,
      "outputs": []
    },
    {
      "cell_type": "markdown",
      "source": [
        "12. Example Use"
      ],
      "metadata": {
        "id": "YOszQzTdLqGS"
      }
    },
    {
      "cell_type": "markdown",
      "source": [
        "12.1 Initialise the database and encryption manager"
      ],
      "metadata": {
        "id": "svrGJk_HMhDi"
      }
    },
    {
      "cell_type": "code",
      "source": [
        "# Initialize the database manager and encryption manager\n",
        "db_manager = DatabaseManager()\n",
        "encryption_manager = EncryptionManager()"
      ],
      "metadata": {
        "id": "9WRjwI3QL4Qt"
      },
      "execution_count": 63,
      "outputs": []
    },
    {
      "cell_type": "markdown",
      "source": [
        "12.2 Create admin user"
      ],
      "metadata": {
        "id": "bPdqchD3Mj4z"
      }
    },
    {
      "cell_type": "code",
      "source": [
        "admin = Administrator(user_id=1, username=\"admin\", password_hash=\"\", role=UserRole.ADMIN)\n",
        "admin.set_password(\"adminpassword\")\n",
        "\n",
        "# Check if username already exists\n",
        "db_manager.db_cursor.execute(\"SELECT 1 FROM Users WHERE username = ?\", (admin.username,))\n",
        "existing_user = db_manager.db_cursor.fetchone()\n",
        "\n",
        "if not existing_user:  # If username doesn't exist\n",
        "    db_manager.db_cursor.execute('''INSERT INTO Users (username, password_hash, role) VALUES (?, ?, ?)''',\n",
        "                                (admin.username, admin.password_hash, admin.role.value))\n",
        "    db_manager.db_connection.commit()\n",
        "    print(\"Admin user created successfully.\")\n",
        "else:\n",
        "    print(\"A user with this username already exists.\")"
      ],
      "metadata": {
        "colab": {
          "base_uri": "https://localhost:8080/"
        },
        "id": "Sikn57RjMw7W",
        "outputId": "ae615ecf-96f8-4dc7-ed33-c520086f6b61"
      },
      "execution_count": 69,
      "outputs": [
        {
          "output_type": "stream",
          "name": "stdout",
          "text": [
            "A user with this username already exists.\n"
          ]
        }
      ]
    },
    {
      "cell_type": "markdown",
      "source": [
        "Create regular user"
      ],
      "metadata": {
        "id": "G0CoGCVzOU_-"
      }
    },
    {
      "cell_type": "code",
      "source": [
        "user = User(user_id=2, username=\"craig\", password_hash=\"\", role=UserRole.REGULAR_USER)\n",
        "user.set_password(\"craigpassword\")\n",
        "\n",
        "# Check if username already exists\n",
        "db_manager.db_cursor.execute(\"SELECT 1 FROM Users WHERE username = ?\", (user.username,))\n",
        "existing_user = db_manager.db_cursor.fetchone()\n",
        "\n",
        "if not existing_user:  # If username doesn't exist\n",
        "    db_manager.db_cursor.execute('''INSERT INTO Users (username, password_hash, role) VALUES (?, ?, ?)''',\n",
        "                                (user.username, user.password_hash, user.role.value))\n",
        "    db_manager.db_connection.commit()\n",
        "    print(\"User Craig created successfully.\")\n",
        "else:\n",
        "    print(\"A user with this username already exists.\")"
      ],
      "metadata": {
        "colab": {
          "base_uri": "https://localhost:8080/"
        },
        "outputId": "078f8071-7a8b-449d-c60e-b7cbb9c14fbb",
        "id": "HOppb2OnOhBM"
      },
      "execution_count": 77,
      "outputs": [
        {
          "output_type": "stream",
          "name": "stdout",
          "text": [
            "User Craig created successfully.\n"
          ]
        }
      ]
    },
    {
      "cell_type": "markdown",
      "source": [
        "12.3 Login"
      ],
      "metadata": {
        "id": "khIESgxqNPe0"
      }
    },
    {
      "cell_type": "code",
      "source": [
        "def login(username, password, db_manager):\n",
        "    \"\"\"Log in a user by verifying username and password.\"\"\"\n",
        "    db_manager.db_cursor.execute('SELECT * FROM Users WHERE username = ?', (username,))\n",
        "    user_data = db_manager.db_cursor.fetchone()\n",
        "\n",
        "    if user_data:\n",
        "        user_id, username, password_hash, role = user_data\n",
        "        # Verify password\n",
        "        if sha256(password.encode()).hexdigest() == password_hash:\n",
        "            if role == UserRole.ADMIN.value:\n",
        "                print(f\"Admin {username} logged in successfully.\")\n",
        "                return Administrator(user_id, username, password_hash, UserRole.ADMIN)\n",
        "            else:\n",
        "                print(f\"User {username} logged in successfully.\")\n",
        "                return RegularUser(user_id, username, password_hash, UserRole.REGULAR_USER)\n",
        "        else:\n",
        "            print(\"Incorrect password.\")\n",
        "    else:\n",
        "        print(\"Username not found.\")\n",
        "\n",
        "    return None\n",
        "\n",
        "# Example usage\n",
        "\n",
        "# Initialize the database manager\n",
        "db_manager = DatabaseManager()\n",
        "\n",
        "# Get user input for username and password\n",
        "input_username = input(\"Enter your username: \")\n",
        "input_password = getpass.getpass(\"Enter your password: \")  # This hides the password input for security\n",
        "\n",
        "# Attempt to log in\n",
        "logged_in_user = login(input_username, input_password, db_manager)\n",
        "\n",
        "# Check if login was successful\n",
        "if logged_in_user:\n",
        "    print(f\"Welcome, {logged_in_user.username}.\")\n",
        "else:\n",
        "    print(\"Login failed.\")"
      ],
      "metadata": {
        "colab": {
          "base_uri": "https://localhost:8080/"
        },
        "id": "ti-l8yP4NSFm",
        "outputId": "ee07f483-6a90-4a0e-f2d3-94c96784db92"
      },
      "execution_count": 78,
      "outputs": [
        {
          "output_type": "stream",
          "name": "stdout",
          "text": [
            "Enter your username: craig\n",
            "Enter your password: ··········\n",
            "User craig logged in successfully.\n",
            "Welcome, craig.\n"
          ]
        }
      ]
    },
    {
      "cell_type": "markdown",
      "source": [
        "12.3 Show user details"
      ],
      "metadata": {
        "id": "CySCgnY5M5WY"
      }
    },
    {
      "cell_type": "code",
      "source": [
        "def show_user_details(username, db_manager):\n",
        "    \"\"\"Retrieve and display user details from the Users table.\"\"\"\n",
        "    db_manager.db_cursor.execute('SELECT * FROM Users WHERE username = ?', (username,))\n",
        "    user_details = db_manager.db_cursor.fetchone()\n",
        "\n",
        "    if user_details:\n",
        "        user_id, username, password_hash, role = user_details\n",
        "        print(f\"User ID: {user_id}\")\n",
        "        print(f\"Username: {username}\")\n",
        "        print(f\"Password Hash: {password_hash}\")\n",
        "        print(f\"Role: {role}\")\n",
        "    else:\n",
        "        print(\"User not found.\")\n",
        "\n",
        "# Example usage\n",
        "db_manager = DatabaseManager()\n",
        "\n",
        "# Show details of the admin user\n",
        "show_user_details(\"craig\", db_manager)\n"
      ],
      "metadata": {
        "colab": {
          "base_uri": "https://localhost:8080/"
        },
        "id": "dOw-6F1VOiSW",
        "outputId": "b6092e0a-fb65-453a-a193-e14e17c2ec47"
      },
      "execution_count": 80,
      "outputs": [
        {
          "output_type": "stream",
          "name": "stdout",
          "text": [
            "User ID: 3\n",
            "Username: craig\n",
            "Password Hash: da05bcf4b13d5d7ed40875479b69bf223355b62a056210fc6a6c57272437d3d8\n",
            "Role: regular_user\n"
          ]
        }
      ]
    },
    {
      "cell_type": "markdown",
      "source": [
        "12.4 Show Artifacts in database"
      ],
      "metadata": {
        "id": "ua1h_V74Rxa6"
      }
    },
    {
      "cell_type": "code",
      "source": [
        "def show_all_artefacts(db_manager):\n",
        "    \"\"\"Retrieve and display all artefacts from the Artefacts table.\"\"\"\n",
        "    db_manager.db_cursor.execute('SELECT * FROM Artefacts')\n",
        "    artefacts = db_manager.db_cursor.fetchall()\n",
        "\n",
        "    if artefacts:\n",
        "        for artefact in artefacts:\n",
        "            artefact_id, title, content, checksum, encrypted_content, timestamps, owner_id = artefact\n",
        "            print(f\"Artefact ID: {artefact_id}\")\n",
        "            print(f\"Title: {title}\")\n",
        "            print(f\"Checksum: {checksum}\")\n",
        "            print(f\"Timestamps: {timestamps}\")\n",
        "            print(f\"Owner ID: {owner_id}\")\n",
        "            print(\"-\" * 40)\n",
        "    else:\n",
        "        print(\"No artefacts found.\")\n",
        "\n",
        "# Show details of all artefacts\n",
        "show_all_artefacts(db_manager)"
      ],
      "metadata": {
        "colab": {
          "base_uri": "https://localhost:8080/"
        },
        "id": "NOJFvGHQRfzA",
        "outputId": "96d01b16-5dc9-4042-a8b6-289b042053aa"
      },
      "execution_count": 88,
      "outputs": [
        {
          "output_type": "stream",
          "name": "stdout",
          "text": [
            "Artefact ID: 1\n",
            "Title: Sample Song\n",
            "Checksum: 1eb9b93f588acb2c422f3b8a7746127fa421f1fd31aba38cbcb2fe995f2d40a1\n",
            "Timestamps: 2024-08-15 12:43:06\n",
            "Owner ID: 2\n",
            "----------------------------------------\n",
            "Artefact ID: 2\n",
            "Title: Sample Song\n",
            "Checksum: 1eb9b93f588acb2c422f3b8a7746127fa421f1fd31aba38cbcb2fe995f2d40a1\n",
            "Timestamps: 2024-08-15 13:02:01\n",
            "Owner ID: 2\n",
            "----------------------------------------\n",
            "Artefact ID: 3\n",
            "Title: Sample Song\n",
            "Checksum: 1eb9b93f588acb2c422f3b8a7746127fa421f1fd31aba38cbcb2fe995f2d40a1\n",
            "Timestamps: 2024-08-15 13:04:52\n",
            "Owner ID: 2\n",
            "----------------------------------------\n",
            "Artefact ID: 4\n",
            "Title: Sample Song\n",
            "Checksum: 1eb9b93f588acb2c422f3b8a7746127fa421f1fd31aba38cbcb2fe995f2d40a1\n",
            "Timestamps: 2024-08-15 13:06:24\n",
            "Owner ID: 2\n",
            "----------------------------------------\n",
            "Artefact ID: 5\n",
            "Title: Sample Song\n",
            "Checksum: 1eb9b93f588acb2c422f3b8a7746127fa421f1fd31aba38cbcb2fe995f2d40a1\n",
            "Timestamps: 2024-08-15 13:08:23\n",
            "Owner ID: 2\n",
            "----------------------------------------\n",
            "Artefact ID: 6\n",
            "Title: Sample Song\n",
            "Checksum: 1eb9b93f588acb2c422f3b8a7746127fa421f1fd31aba38cbcb2fe995f2d40a1\n",
            "Timestamps: 2024-08-15 13:10:05\n",
            "Owner ID: 2\n",
            "----------------------------------------\n",
            "Artefact ID: 7\n",
            "Title: Sample Song\n",
            "Checksum: 1eb9b93f588acb2c422f3b8a7746127fa421f1fd31aba38cbcb2fe995f2d40a1\n",
            "Timestamps: 2024-08-15 13:12:20\n",
            "Owner ID: 2\n",
            "----------------------------------------\n",
            "Artefact ID: 8\n",
            "Title: Sample Song\n",
            "Checksum: 1eb9b93f588acb2c422f3b8a7746127fa421f1fd31aba38cbcb2fe995f2d40a1\n",
            "Timestamps: 2024-08-15 13:13:43\n",
            "Owner ID: 2\n",
            "----------------------------------------\n",
            "Artefact ID: 9\n",
            "Title: Sample Song\n",
            "Checksum: 1eb9b93f588acb2c422f3b8a7746127fa421f1fd31aba38cbcb2fe995f2d40a1\n",
            "Timestamps: 2024-08-15 13:14:05\n",
            "Owner ID: 2\n",
            "----------------------------------------\n",
            "Artefact ID: 10\n",
            "Title: Sample Song\n",
            "Checksum: 1eb9b93f588acb2c422f3b8a7746127fa421f1fd31aba38cbcb2fe995f2d40a1\n",
            "Timestamps: 2024-08-15 13:14:16\n",
            "Owner ID: 2\n",
            "----------------------------------------\n",
            "Artefact ID: 11\n",
            "Title: Sample Song\n",
            "Checksum: 1eb9b93f588acb2c422f3b8a7746127fa421f1fd31aba38cbcb2fe995f2d40a1\n",
            "Timestamps: 2024-08-15 13:15:51\n",
            "Owner ID: 2\n",
            "----------------------------------------\n",
            "Artefact ID: 12\n",
            "Title: Sample Song\n",
            "Checksum: 1eb9b93f588acb2c422f3b8a7746127fa421f1fd31aba38cbcb2fe995f2d40a1\n",
            "Timestamps: 2024-08-15 13:16:00\n",
            "Owner ID: 2\n",
            "----------------------------------------\n",
            "Artefact ID: 13\n",
            "Title: Sample Song\n",
            "Checksum: 1eb9b93f588acb2c422f3b8a7746127fa421f1fd31aba38cbcb2fe995f2d40a1\n",
            "Timestamps: 2024-08-15 18:24:53\n",
            "Owner ID: 2\n",
            "----------------------------------------\n",
            "Artefact ID: 14\n",
            "Title: Taylor Swift Song\n",
            "Checksum: ae8ed2743925477eafad0dfdb0d0832702634da4dc6ec1aefa4f3a61953e93f0\n",
            "Timestamps: 2024-08-15 18:25:30\n",
            "Owner ID: 2\n",
            "----------------------------------------\n"
          ]
        }
      ]
    },
    {
      "cell_type": "markdown",
      "source": [
        "User uploads artifact"
      ],
      "metadata": {
        "id": "adu53OqISILS"
      }
    },
    {
      "cell_type": "markdown",
      "source": [
        "12. Example Use"
      ],
      "metadata": {
        "id": "FqI_8UL5Cr7l"
      }
    },
    {
      "cell_type": "code",
      "source": [
        "# User uploads an artefact\n",
        "artefact_content = b\"Swift\"\n",
        "artefact = Artefact(artefact_id=None, title=\"Taylor Swift Song\", content=artefact_content, owner_id=user.user_id)\n",
        "artefact.encrypt_content(encryption_manager)\n",
        "user.upload_artefact(artefact, db_manager)"
      ],
      "metadata": {
        "id": "W88cYL5SSK2G"
      },
      "execution_count": 87,
      "outputs": []
    },
    {
      "cell_type": "code",
      "source": [
        "# Initialize the database manager and encryption manager\n",
        "db_manager = DatabaseManager()\n",
        "encryption_manager = EncryptionManager()\n",
        "\n",
        "# Check if admin user already exists\n",
        "db_manager.db_cursor.execute('SELECT 1 FROM Users WHERE username = ?', (\"admin\",))\n",
        "if db_manager.db_cursor.fetchone() is None:\n",
        "    # Create an admin user if it doesn't exist\n",
        "    admin = Administrator(user_id=1, username=\"admin\", password_hash=\"\", role=UserRole.ADMIN)\n",
        "    admin.set_password(\"adminpassword\")\n",
        "    db_manager.db_cursor.execute('''INSERT INTO Users (username, password_hash, role) VALUES (?, ?, ?)''',\n",
        "                                 (admin.username, admin.password_hash, admin.role.value))\n",
        "    db_manager.db_connection.commit()\n",
        "\n",
        "# Check if regular user already exists\n",
        "db_manager.db_cursor.execute('SELECT 1 FROM Users WHERE username = ?', (\"user1\",))\n",
        "if db_manager.db_cursor.fetchone() is None:\n",
        "    # Create a regular user if it doesn't exist\n",
        "    user = RegularUser(user_id=2, username=\"user1\", password_hash=\"\", role=UserRole.REGULAR_USER)\n",
        "    user.set_password(\"userpassword\")\n",
        "    db_manager.db_cursor.execute('''INSERT INTO Users (username, password_hash, role) VALUES (?, ?, ?)''',\n",
        "                                 (user.username, user.password_hash, user.role.value))\n",
        "    db_manager.db_connection.commit()\n",
        "\n",
        "# Retrieve admin and regular user from the database\n",
        "admin = db_manager.get_user(1)\n",
        "user = db_manager.get_user(2)\n",
        "# Store the admin as an Administrator object\n",
        "admin = Administrator(**db_manager.get_user(1).__dict__) # unpack the User object attributes into Administrator\n",
        "user = db_manager.get_user(2) # retrieve the User object from the database\n",
        "\n",
        "# User uploads an artefact\n",
        "artefact_content = b\"Sample music content\"\n",
        "artefact = Artefact(artefact_id=None, title=\"Sample Song\", content=artefact_content, owner_id=user.user_id)\n",
        "artefact.encrypt_content(encryption_manager)\n",
        "user.upload_artefact(artefact, db_manager)\n",
        "\n",
        "# Admin views the artefact\n",
        "viewed_artefact = admin.view_artefact(artefact_id=1, db_manager=db_manager)\n",
        "\n",
        "# Ensure the encrypted content is in bytes format before decryption\n",
        "if viewed_artefact.encrypted_content is not None: # Check if encrypted_content exists\n",
        "    decrypted_content = viewed_artefact.decrypt_content(encryption_manager)\n",
        "    if decrypted_content:\n",
        "        print(decrypted_content.decode('utf-8'))  # Decode to string for printing if necessary\n",
        "else:\n",
        "    print(\"Error: Artefact does not have encrypted content.\")\n",
        "\n",
        "# Admin logs an event\n",
        "logger = Logger(db_manager)\n",
        "logger.log_event(\"Admin viewed an artefact\", user_id=admin.user_id, artefact_id=viewed_artefact.artefact_id)\n"
      ],
      "metadata": {
        "colab": {
          "base_uri": "https://localhost:8080/"
        },
        "id": "YvUaNiCNCvlG",
        "outputId": "03c4afe2-6660-4df6-b15a-f2ca164140db"
      },
      "execution_count": 60,
      "outputs": [
        {
          "output_type": "stream",
          "name": "stdout",
          "text": [
            "Error: Artefact does not have encrypted content.\n"
          ]
        }
      ]
    }
  ]
}