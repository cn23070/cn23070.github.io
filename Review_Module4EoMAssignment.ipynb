{
  "nbformat": 4,
  "nbformat_minor": 0,
  "metadata": {
    "colab": {
      "provenance": [],
      "authorship_tag": "ABX9TyPIILWsXt24rJ+3yBWbGDk8",
      "include_colab_link": true
    },
    "kernelspec": {
      "name": "python3",
      "display_name": "Python 3"
    },
    "language_info": {
      "name": "python"
    }
  },
  "cells": [
    {
      "cell_type": "markdown",
      "metadata": {
        "id": "view-in-github",
        "colab_type": "text"
      },
      "source": [
        "<a href=\"https://colab.research.google.com/github/cn23070/cn23070.github.io/blob/main/Review_Module4EoMAssignment.ipynb\" target=\"_parent\"><img src=\"https://colab.research.google.com/assets/colab-badge.svg\" alt=\"Open In Colab\"/></a>"
      ]
    },
    {
      "cell_type": "markdown",
      "source": [
        "1. Import Required Libraries"
      ],
      "metadata": {
        "id": "lBsXYqgs_pbF"
      }
    },
    {
      "cell_type": "code",
      "execution_count": null,
      "metadata": {
        "id": "7-eA9TDvKsUS"
      },
      "outputs": [],
      "source": [
        "import sqlite3  # For SQLite database operations\n",
        "from hashlib import sha256  # For generating checksums and password hashing\n",
        "from datetime import datetime  # For handling timestamps\n",
        "from cryptography.fernet import Fernet  # For encryption and decryption\n",
        "import os  # For secure key storage\n",
        "import getpass  # For securely getting the password input"
      ]
    },
    {
      "cell_type": "markdown",
      "source": [
        "2. Define Classes"
      ],
      "metadata": {
        "id": "MApa22Qg_uY0"
      }
    },
    {
      "cell_type": "code",
      "source": [
        "#UserRole Enum\n",
        "from enum import Enum\n",
        "\n",
        "class UserRole(Enum):\n",
        "    ADMIN = \"admin\"\n",
        "    REGULAR_USER = \"regular_user\""
      ],
      "metadata": {
        "id": "Xlw4L_nH_yYi"
      },
      "execution_count": null,
      "outputs": []
    },
    {
      "cell_type": "markdown",
      "source": [
        "3. User Class"
      ],
      "metadata": {
        "id": "hQz-g9dXAeKe"
      }
    },
    {
      "cell_type": "code",
      "source": [
        "class User:\n",
        "    def __init__(self, user_id, username, password_hash, role):\n",
        "        self.user_id = user_id\n",
        "        self.username = username\n",
        "        self.password_hash = password_hash\n",
        "        self.role = role\n",
        "\n",
        "    def set_password(self, password):\n",
        "        \"\"\"Hashes the password and stores it securely.\"\"\"\n",
        "        self.password_hash = sha256(password.encode()).hexdigest()\n",
        "\n",
        "    def check_password(self, password):\n",
        "        \"\"\"Verifies the entered password against the stored hash.\"\"\"\n",
        "        return self.password_hash == sha256(password.encode()).hexdigest()\n",
        "\n",
        "    def get_role(self):\n",
        "        \"\"\"Returns the role of the user.\"\"\"\n",
        "        return self.role\n",
        "\n",
        "    def get_user_id(self):\n",
        "        \"\"\"Returns the user ID.\"\"\"\n",
        "        return self.user_id\n",
        "\n",
        "    def get_username(self):\n",
        "        \"\"\"Returns the username.\"\"\"\n",
        "        return self.username\n",
        "\n",
        "    def get_password_hash(self):\n",
        "        \"\"\"Returns the password hash.\"\"\"\n",
        "        return self.password_hash\n",
        "\n",
        "    def upload_artefact(self, artefact, db_manager):\n",
        "        \"\"\"Uploads an artefact to the database.\"\"\"\n",
        "        db_manager.store_artefact(artefact)\n",
        "\n",
        "\n"
      ],
      "metadata": {
        "id": "66uGg9i-AhsU"
      },
      "execution_count": null,
      "outputs": []
    },
    {
      "cell_type": "markdown",
      "source": [
        "4. Administrator Class"
      ],
      "metadata": {
        "id": "vOGI_DT5BJYH"
      }
    },
    {
      "cell_type": "code",
      "source": [
        "class Administrator(User):\n",
        "    def create_artefact(self, artefact, db_manager):\n",
        "        \"\"\"Allows the admin to create and store an artefact.\"\"\"\n",
        "        db_manager.store_artefact(artefact)\n",
        "\n",
        "    def delete_artefact(self, artefact_id, db_manager):\n",
        "        \"\"\"Allows the admin to delete an artefact.\"\"\"\n",
        "        db_manager.delete_artefact(artefact_id)\n",
        "\n",
        "    def view_artefact(self, artefact_id, db_manager):\n",
        "        \"\"\"Allows the admin to view an artefact.\"\"\"\n",
        "        return db_manager.retrieve_artefact(artefact_id)\n"
      ],
      "metadata": {
        "id": "y12ylRx9BOA9"
      },
      "execution_count": null,
      "outputs": []
    },
    {
      "cell_type": "markdown",
      "source": [
        "5. RegularUser Class"
      ],
      "metadata": {
        "id": "slieBIcWBT94"
      }
    },
    {
      "cell_type": "code",
      "source": [
        "class RegularUser(User):\n",
        "    def upload_artefact(self, artefact, db_manager):\n",
        "        \"\"\"Allows the user to upload their own artefact.\"\"\"\n",
        "        if artefact.owner_id == self.user_id:\n",
        "            db_manager.store_artefact(artefact)\n",
        "\n",
        "    def modify_artefact(self, artefact, db_manager):\n",
        "        \"\"\"Allows the user to modify their own artefact.\"\"\"\n",
        "        existing_artefact = db_manager.retrieve_artefact(artefact.artefact_id)\n",
        "        if existing_artefact.owner_id == self.user_id:\n",
        "            db_manager.update_artefact(artefact)\n",
        "\n",
        "    def view_artefact(self, artefact_id, db_manager):\n",
        "        \"\"\"Allows the user to view an artefact.\"\"\"\n",
        "        artefact = db_manager.retrieve_artefact(artefact_id)\n",
        "        if artefact.owner_id == self.user_id or self.role == UserRole.ADMIN:\n",
        "            return artefact\n"
      ],
      "metadata": {
        "id": "AijIWC8IBaXQ"
      },
      "execution_count": null,
      "outputs": []
    },
    {
      "cell_type": "markdown",
      "source": [
        "6. Artifact Class"
      ],
      "metadata": {
        "id": "Qy8m6NmbBcn_"
      }
    },
    {
      "cell_type": "code",
      "source": [
        "class Artefact:\n",
        "    def __init__(self, artefact_id, title, content, owner_id):\n",
        "        self.artefact_id = artefact_id\n",
        "        self.title = title\n",
        "        self.content = content\n",
        "        self.checksum = self.generate_checksum(content)\n",
        "        self.encrypted_content = None\n",
        "        self.timestamps = self.create_timestamp()\n",
        "        self.owner_id = owner_id\n",
        "\n",
        "    def generate_checksum(self, data):\n",
        "        \"\"\"Generates a checksum to verify data integrity.\"\"\"\n",
        "        return sha256(data).hexdigest()\n",
        "\n",
        "    def encrypt_content(self, encryption_manager):\n",
        "        \"\"\"Encrypts the content using the EncryptionManager.\"\"\"\n",
        "        self.encrypted_content = encryption_manager.encrypt(self.content)\n",
        "\n",
        "    def decrypt_content(self, encryption_manager):\n",
        "        \"\"\"Decrypts the content using the EncryptionManager.\"\"\"\n",
        "        return encryption_manager.decrypt(self.encrypted_content)\n",
        "\n",
        "    def create_timestamp(self):\n",
        "        \"\"\"Creates a timestamp for the artefact.\"\"\"\n",
        "        return datetime.now().strftime(\"%Y-%m-%d %H:%M:%S\")\n"
      ],
      "metadata": {
        "id": "OoJDEHgABf_p"
      },
      "execution_count": null,
      "outputs": []
    },
    {
      "cell_type": "markdown",
      "source": [
        "7. EncryptionManager Class"
      ],
      "metadata": {
        "id": "ePRcTcuRBmYh"
      }
    },
    {
      "cell_type": "code",
      "source": [
        "class EncryptionManager:\n",
        "    def __init__(self):\n",
        "        \"\"\"Initializes the encryption manager with a secure key.\"\"\"\n",
        "        self.key = Fernet.generate_key()\n",
        "        self.cipher = Fernet(self.key)\n",
        "\n",
        "    def encrypt(self, data):\n",
        "        \"\"\"Encrypts the provided data.\"\"\"\n",
        "        return self.cipher.encrypt(data)\n",
        "\n",
        "    def decrypt(self, data):\n",
        "        \"\"\"Decrypts the provided data.\"\"\"\n",
        "        return self.cipher.decrypt(data)\n"
      ],
      "metadata": {
        "id": "4o5hkhE6BqWg"
      },
      "execution_count": null,
      "outputs": []
    },
    {
      "cell_type": "markdown",
      "source": [
        "8. ChecksumManager Class"
      ],
      "metadata": {
        "id": "rfRnpH-sBtCk"
      }
    },
    {
      "cell_type": "code",
      "source": [
        "class ChecksumManager:\n",
        "    @staticmethod\n",
        "    def generate_checksum(data):\n",
        "        \"\"\"Generates a checksum for the provided data.\"\"\"\n",
        "        return sha256(data).hexdigest()\n",
        "\n",
        "    @staticmethod\n",
        "    def verify_checksum(data, checksum):\n",
        "        \"\"\"Verifies the checksum of the provided data.\"\"\"\n",
        "        return sha256(data).hexdigest() == checksum\n"
      ],
      "metadata": {
        "id": "5XoO3B_9BwqK"
      },
      "execution_count": null,
      "outputs": []
    },
    {
      "cell_type": "markdown",
      "source": [
        "9. TimestampManager Class"
      ],
      "metadata": {
        "id": "IlAfplMJByDr"
      }
    },
    {
      "cell_type": "code",
      "source": [
        "class TimestampManager:\n",
        "    @staticmethod\n",
        "    def create_timestamp():\n",
        "        \"\"\"Creates a current timestamp.\"\"\"\n",
        "        return datetime.now().strftime(\"%Y-%m-%d %H:%M:%S\")\n",
        "\n",
        "    @staticmethod\n",
        "    def update_timestamp():\n",
        "        \"\"\"Updates the timestamp.\"\"\"\n",
        "        return datetime.now().strftime(\"%Y-%m-%d %H:%M:%S\")\n"
      ],
      "metadata": {
        "id": "rM1czq8FB1QS"
      },
      "execution_count": null,
      "outputs": []
    },
    {
      "cell_type": "markdown",
      "source": [
        "10. DatabaseManager Class (with SQLite Integration)"
      ],
      "metadata": {
        "id": "HK-v1KbaB-hN"
      }
    },
    {
      "cell_type": "code",
      "source": [
        "class DatabaseManager:\n",
        "    def __init__(self, db_name=\"secure_enclave.db\"):\n",
        "        \"\"\"Initializes the database manager and connects to the SQLite database.\"\"\"\n",
        "        self.db_name = db_name\n",
        "        self.connect_to_db()\n",
        "\n",
        "    def connect_to_db(self):\n",
        "        \"\"\"Connects to the SQLite database.\"\"\"\n",
        "        self.db_connection = sqlite3.connect(self.db_name)\n",
        "        self.db_cursor = self.db_connection.cursor()\n",
        "        self.create_tables()\n",
        "\n",
        "    def create_tables(self):\n",
        "        \"\"\"Creates the necessary tables if they don't exist.\"\"\"\n",
        "        self.db_cursor.execute('''CREATE TABLE IF NOT EXISTS Users (\n",
        "                                    user_id INTEGER PRIMARY KEY AUTOINCREMENT,\n",
        "                                    username TEXT UNIQUE NOT NULL,\n",
        "                                    password_hash TEXT NOT NULL,\n",
        "                                    role TEXT NOT NULL)''')\n",
        "\n",
        "        self.db_cursor.execute('''CREATE TABLE IF NOT EXISTS Artefacts (\n",
        "                                    artefact_id INTEGER PRIMARY KEY AUTOINCREMENT,\n",
        "                                    title TEXT NOT NULL,\n",
        "                                    content BLOB NOT NULL,\n",
        "                                    checksum TEXT NOT NULL,\n",
        "                                    encrypted_content BLOB NOT NULL,\n",
        "                                    timestamps TEXT NOT NULL,\n",
        "                                    owner_id INTEGER NOT NULL,\n",
        "                                    FOREIGN KEY(owner_id) REFERENCES Users(user_id))''')\n",
        "\n",
        "        self.db_cursor.execute('''CREATE TABLE IF NOT EXISTS Logs (\n",
        "                                    log_id INTEGER PRIMARY KEY AUTOINCREMENT,\n",
        "                                    action TEXT NOT NULL,\n",
        "                                    user_id INTEGER,\n",
        "                                    artefact_id INTEGER,\n",
        "                                    timestamp TEXT NOT NULL,\n",
        "                                    FOREIGN KEY(user_id) REFERENCES Users(user_id),\n",
        "                                    FOREIGN KEY(artefact_id) REFERENCES Artefacts(artefact_id))''')\n",
        "\n",
        "        self.db_connection.commit()\n",
        "\n",
        "    def store_artefact(self, artefact):\n",
        "        \"\"\"Stores an artefact in the database.\"\"\"\n",
        "        self.db_cursor.execute('''INSERT INTO Artefacts (title, content, checksum, encrypted_content, timestamps, owner_id)\n",
        "                                  VALUES (?, ?, ?, ?, ?, ?)''',\n",
        "                               (artefact.title, artefact.content, artefact.checksum,\n",
        "                                artefact.encrypted_content, artefact.timestamps, artefact.owner_id))\n",
        "        self.db_connection.commit()\n",
        "\n",
        "    def retrieve_artefact(self, artefact_id):\n",
        "        \"\"\"Retrieves an artefact by its ID.\"\"\"\n",
        "        self.db_cursor.execute('SELECT * FROM Artefacts WHERE artefact_id = ?', (artefact_id,))\n",
        "        row = self.db_cursor.fetchone()\n",
        "        if row:\n",
        "            return Artefact(row[0], row[1], row[2], row[6])\n",
        "        return None\n",
        "\n",
        "    def update_artefact(self, artefact):\n",
        "        \"\"\"Updates an existing artefact.\"\"\"\n",
        "        self.db_cursor.execute('''UPDATE Artefacts\n",
        "                                  SET title = ?, content = ?, checksum = ?, encrypted_content = ?, timestamps = ?\n",
        "                                  WHERE artefact_id = ?''',\n",
        "                               (artefact.title, artefact.content, artefact.checksum,\n",
        "                                artefact.encrypted_content, artefact.timestamps, artefact.artefact_id))\n",
        "        self.db_connection.commit()\n",
        "\n",
        "    def delete_artefact(self, artefact_id):\n",
        "        \"\"\"Deletes an artefact by its ID.\"\"\"\n",
        "        self.db_cursor.execute('DELETE FROM Artefacts WHERE artefact_id = ?', (artefact_id,))\n",
        "        self.db_connection.commit()\n",
        "\n",
        "    def get_user(self, user_id):\n",
        "        \"\"\"Retrieves user details by user ID.\"\"\"\n",
        "        self.db_cursor.execute('SELECT * FROM Users WHERE user_id = ?', (user_id,))\n",
        "        row = self.db_cursor.fetchone()\n",
        "        if row:\n",
        "            return User(row[0], row[1], row[2], UserRole(row[3]))\n",
        "        return None\n"
      ],
      "metadata": {
        "id": "mdk-nxM9CCBq"
      },
      "execution_count": null,
      "outputs": []
    },
    {
      "cell_type": "markdown",
      "source": [
        "11. Logger Class"
      ],
      "metadata": {
        "id": "5EGCHgb0CSyS"
      }
    },
    {
      "cell_type": "code",
      "source": [
        "class Logger:\n",
        "    def __init__(self, db_manager):\n",
        "        \"\"\"Initializes the logger with a reference to the database manager.\"\"\"\n",
        "        self.db_manager = db_manager\n",
        "\n",
        "    def log_event(self, event, user_id=None, artefact_id=None):\n",
        "        \"\"\"Logs a system event.\"\"\"\n",
        "        timestamp = TimestampManager.create_timestamp()\n",
        "        self.db_manager.db_cursor.execute('''INSERT INTO Logs (action, user_id, artefact_id, timestamp)\n",
        "                                             VALUES (?, ?, ?, ?)''',\n",
        "                                          (event, user_id, artefact_id, timestamp))\n",
        "        self.db_manager.db_connection.commit()\n",
        "\n",
        "    def log_error(self, error, user_id=None):\n",
        "        \"\"\"Logs an error message.\"\"\"\n",
        "        timestamp = TimestampManager.create_timestamp()\n",
        "        self.db_manager.db_cursor.execute('''INSERT INTO Logs (action, user_id, timestamp)\n",
        "                                             VALUES (?, ?, ?)''',\n",
        "                                          (f\"ERROR: {error}\", user_id, timestamp))\n",
        "        self.db_manager.db_connection.commit()\n"
      ],
      "metadata": {
        "id": "I4Hpfg79CVxM"
      },
      "execution_count": null,
      "outputs": []
    },
    {
      "cell_type": "markdown",
      "source": [
        "12. Example Use"
      ],
      "metadata": {
        "id": "YOszQzTdLqGS"
      }
    },
    {
      "cell_type": "markdown",
      "source": [
        "12.1 Initialise the database and encryption manager"
      ],
      "metadata": {
        "id": "svrGJk_HMhDi"
      }
    },
    {
      "cell_type": "code",
      "source": [
        "# Initialize the database manager and encryption manager\n",
        "db_manager = DatabaseManager()\n",
        "encryption_manager = EncryptionManager()"
      ],
      "metadata": {
        "id": "9WRjwI3QL4Qt"
      },
      "execution_count": null,
      "outputs": []
    },
    {
      "cell_type": "markdown",
      "source": [
        "12.2 Create admin user"
      ],
      "metadata": {
        "id": "bPdqchD3Mj4z"
      }
    },
    {
      "cell_type": "code",
      "source": [
        "admin = Administrator(user_id=1, username=\"admin\", password_hash=\"\", role=UserRole.ADMIN)\n",
        "admin.set_password(\"adminpassword\")\n",
        "\n",
        "# Check if username already exists\n",
        "db_manager.db_cursor.execute(\"SELECT 1 FROM Users WHERE username = ?\", (admin.username,))\n",
        "existing_user = db_manager.db_cursor.fetchone()\n",
        "\n",
        "if not existing_user:  # If username doesn't exist\n",
        "    db_manager.db_cursor.execute('''INSERT INTO Users (username, password_hash, role) VALUES (?, ?, ?)''',\n",
        "                                (admin.username, admin.password_hash, admin.role.value))\n",
        "    db_manager.db_connection.commit()\n",
        "    print(\"Admin user created successfully.\")\n",
        "else:\n",
        "    print(\"A user with this username already exists.\")"
      ],
      "metadata": {
        "colab": {
          "base_uri": "https://localhost:8080/"
        },
        "id": "Sikn57RjMw7W",
        "outputId": "928c60f6-e9c6-4ceb-d0f3-e37010500ced"
      },
      "execution_count": null,
      "outputs": [
        {
          "output_type": "stream",
          "name": "stdout",
          "text": [
            "A user with this username already exists.\n"
          ]
        }
      ]
    },
    {
      "cell_type": "markdown",
      "source": [
        "Create regular user"
      ],
      "metadata": {
        "id": "G0CoGCVzOU_-"
      }
    },
    {
      "cell_type": "code",
      "source": [
        "user = User(user_id=2, username=\"craig\", password_hash=\"\", role=UserRole.REGULAR_USER)\n",
        "user.set_password(\"craigpassword\")\n",
        "\n",
        "# Check if username already exists\n",
        "db_manager.db_cursor.execute(\"SELECT 1 FROM Users WHERE username = ?\", (user.username,))\n",
        "existing_user = db_manager.db_cursor.fetchone()\n",
        "\n",
        "if not existing_user:  # If username doesn't exist\n",
        "    db_manager.db_cursor.execute('''INSERT INTO Users (username, password_hash, role) VALUES (?, ?, ?)''',\n",
        "                                (user.username, user.password_hash, user.role.value))\n",
        "    db_manager.db_connection.commit()\n",
        "    print(\"User Craig created successfully.\")\n",
        "else:\n",
        "    print(\"A user with this username already exists.\")"
      ],
      "metadata": {
        "colab": {
          "base_uri": "https://localhost:8080/"
        },
        "outputId": "820d80ad-5675-4c86-aae7-1b4837958a1d",
        "id": "HOppb2OnOhBM"
      },
      "execution_count": null,
      "outputs": [
        {
          "output_type": "stream",
          "name": "stdout",
          "text": [
            "A user with this username already exists.\n"
          ]
        }
      ]
    },
    {
      "cell_type": "markdown",
      "source": [
        "12.3 Login"
      ],
      "metadata": {
        "id": "khIESgxqNPe0"
      }
    },
    {
      "cell_type": "code",
      "source": [
        "def login(username, password, db_manager):\n",
        "    \"\"\"Log in a user by verifying username and password.\"\"\"\n",
        "    db_manager.db_cursor.execute('SELECT * FROM Users WHERE username = ?', (username,))\n",
        "    user_data = db_manager.db_cursor.fetchone()\n",
        "\n",
        "    if user_data:\n",
        "        user_id, username, password_hash, role = user_data\n",
        "        # Verify password\n",
        "        if sha256(password.encode()).hexdigest() == password_hash:\n",
        "            if role == UserRole.ADMIN.value:\n",
        "                print(f\"Admin {username} logged in successfully.\")\n",
        "                return Administrator(user_id, username, password_hash, UserRole.ADMIN)\n",
        "            else:\n",
        "                print(f\"User {username} logged in successfully.\")\n",
        "                return RegularUser(user_id, username, password_hash, UserRole.REGULAR_USER)\n",
        "        else:\n",
        "            print(\"Incorrect password.\")\n",
        "    else:\n",
        "        print(\"Username not found.\")\n",
        "\n",
        "    return None\n",
        "\n",
        "# Example usage\n",
        "\n",
        "# Initialize the database manager\n",
        "db_manager = DatabaseManager()\n",
        "\n",
        "# Get user input for username and password\n",
        "input_username = input(\"Enter your username: \")\n",
        "input_password = getpass.getpass(\"Enter your password: \")  # This hides the password input for security\n",
        "\n",
        "# Attempt to log in\n",
        "logged_in_user = login(input_username, input_password, db_manager)\n",
        "\n",
        "# Check if login was successful\n",
        "if logged_in_user:\n",
        "    print(f\"Welcome, {logged_in_user.username}.\")\n",
        "else:\n",
        "    print(\"Login failed.\")"
      ],
      "metadata": {
        "colab": {
          "base_uri": "https://localhost:8080/"
        },
        "id": "ti-l8yP4NSFm",
        "outputId": "8224db44-f038-4443-b486-340427cb8e2a"
      },
      "execution_count": null,
      "outputs": [
        {
          "output_type": "stream",
          "name": "stdout",
          "text": [
            "Enter your username: craig\n",
            "Enter your password: ··········\n",
            "User craig logged in successfully.\n",
            "Welcome, craig.\n"
          ]
        }
      ]
    },
    {
      "cell_type": "markdown",
      "source": [
        "12.3 Show user details"
      ],
      "metadata": {
        "id": "CySCgnY5M5WY"
      }
    },
    {
      "cell_type": "code",
      "source": [
        "def show_user_details(username, db_manager):\n",
        "    \"\"\"Retrieve and display user details from the Users table.\"\"\"\n",
        "    db_manager.db_cursor.execute('SELECT * FROM Users WHERE username = ?', (username,))\n",
        "    user_details = db_manager.db_cursor.fetchone()\n",
        "\n",
        "    if user_details:\n",
        "        user_id, username, password_hash, role = user_details\n",
        "        print(f\"User ID: {user_id}\")\n",
        "        print(f\"Username: {username}\")\n",
        "        print(f\"Password Hash: {password_hash}\")\n",
        "        print(f\"Role: {role}\")\n",
        "    else:\n",
        "        print(\"User not found.\")\n",
        "\n",
        "# Example usage\n",
        "db_manager = DatabaseManager()\n",
        "\n",
        "# Show details of the admin user\n",
        "show_user_details(\"craig\", db_manager)\n"
      ],
      "metadata": {
        "colab": {
          "base_uri": "https://localhost:8080/"
        },
        "id": "dOw-6F1VOiSW",
        "outputId": "c0bf9ecb-6409-4cee-d9a9-14f3650d137c"
      },
      "execution_count": null,
      "outputs": [
        {
          "output_type": "stream",
          "name": "stdout",
          "text": [
            "User ID: 2\n",
            "Username: craig\n",
            "Password Hash: da05bcf4b13d5d7ed40875479b69bf223355b62a056210fc6a6c57272437d3d8\n",
            "Role: regular_user\n"
          ]
        }
      ]
    },
    {
      "cell_type": "markdown",
      "source": [
        "12.4 Show Artifacts in database"
      ],
      "metadata": {
        "id": "ua1h_V74Rxa6"
      }
    },
    {
      "cell_type": "code",
      "source": [
        "def show_all_artefacts(db_manager):\n",
        "    \"\"\"Retrieve and display all artefacts from the Artefacts table.\"\"\"\n",
        "    db_manager.db_cursor.execute('SELECT * FROM Artefacts')\n",
        "    artefacts = db_manager.db_cursor.fetchall()\n",
        "\n",
        "    if artefacts:\n",
        "        for artefact in artefacts:\n",
        "            artefact_id, title, content, checksum, encrypted_content, timestamps, owner_id = artefact\n",
        "            print(f\"Artefact ID: {artefact_id}\")\n",
        "            print(f\"Title: {title}\")\n",
        "            print(f\"Checksum: {checksum}\")\n",
        "            print(f\"Timestamps: {timestamps}\")\n",
        "            print(f\"Owner ID: {owner_id}\")\n",
        "            print(\"-\" * 40)\n",
        "    else:\n",
        "        print(\"No artefacts found.\")\n",
        "\n",
        "# Show details of all artefacts\n",
        "show_all_artefacts(db_manager)"
      ],
      "metadata": {
        "colab": {
          "base_uri": "https://localhost:8080/"
        },
        "id": "NOJFvGHQRfzA",
        "outputId": "71ad0aa8-a964-43fb-f974-63ca6b2f71e0"
      },
      "execution_count": null,
      "outputs": [
        {
          "output_type": "stream",
          "name": "stdout",
          "text": [
            "No artefacts found.\n"
          ]
        }
      ]
    },
    {
      "cell_type": "markdown",
      "source": [
        "User uploads artifact"
      ],
      "metadata": {
        "id": "adu53OqISILS"
      }
    },
    {
      "cell_type": "markdown",
      "source": [
        "12. Example Use"
      ],
      "metadata": {
        "id": "FqI_8UL5Cr7l"
      }
    },
    {
      "cell_type": "code",
      "source": [
        "# User uploads an artefact\n",
        "artefact_content = b\"Swift\"\n",
        "artefact = Artefact(artefact_id=None, title=\"Taylor Swift Song\", content=artefact_content, owner_id=user.user_id)\n",
        "artefact.encrypt_content(encryption_manager)\n",
        "user.upload_artefact(artefact, db_manager)\n",
        "\n",
        "\n",
        "show_all_artefacts(db_manager)"
      ],
      "metadata": {
        "id": "W88cYL5SSK2G",
        "outputId": "b5ced2d2-89b2-45b7-e16a-b4e16a092716",
        "colab": {
          "base_uri": "https://localhost:8080/"
        }
      },
      "execution_count": null,
      "outputs": [
        {
          "output_type": "stream",
          "name": "stdout",
          "text": [
            "Artefact ID: 1\n",
            "Title: Taylor Swift Song\n",
            "Checksum: ae8ed2743925477eafad0dfdb0d0832702634da4dc6ec1aefa4f3a61953e93f0\n",
            "Timestamps: 2024-08-23 11:04:43\n",
            "Owner ID: 2\n",
            "----------------------------------------\n"
          ]
        }
      ]
    },
    {
      "cell_type": "code",
      "source": [],
      "metadata": {
        "id": "TrxNZCPP4gJq"
      },
      "execution_count": null,
      "outputs": []
    },
    {
      "cell_type": "markdown",
      "source": [],
      "metadata": {
        "id": "jVHLncfk4fuG"
      }
    }
  ]
}