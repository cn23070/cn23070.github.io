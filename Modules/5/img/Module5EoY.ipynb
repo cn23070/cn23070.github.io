{
  "nbformat": 4,
  "nbformat_minor": 0,
  "metadata": {
    "colab": {
      "provenance": [],
      "authorship_tag": "ABX9TyP7lDuYTWt1hSpZjLEcFJPK",
      "include_colab_link": true
    },
    "kernelspec": {
      "name": "python3",
      "display_name": "Python 3"
    },
    "language_info": {
      "name": "python"
    }
  },
  "cells": [
    {
      "cell_type": "markdown",
      "metadata": {
        "id": "view-in-github",
        "colab_type": "text"
      },
      "source": [
        "<a href=\"https://colab.research.google.com/github/cn23070/cn23070.github.io/blob/main/Module5EoY.ipynb\" target=\"_parent\"><img src=\"https://colab.research.google.com/assets/colab-badge.svg\" alt=\"Open In Colab\"/></a>"
      ]
    },
    {
      "cell_type": "code",
      "execution_count": null,
      "metadata": {
        "id": "WHkL5zlXzCpd"
      },
      "outputs": [],
      "source": []
    },
    {
      "cell_type": "markdown",
      "source": [
        "Hypothesis:\n",
        "\n",
        "\"Does encrypting communication between a simulated IoT device and the central controller at the message level improve security without significantly affecting performance in a Smart Home Automation System?\""
      ],
      "metadata": {
        "id": "4MrOC3H5zhjO"
      }
    },
    {
      "cell_type": "markdown",
      "source": [
        "Objective:\n",
        "\n",
        "To investigate whether encrypting individual messages between IoT devices and a central controller improves security (by preventing data interception) while maintaining an acceptable level of performance in a Smart Home Automation System."
      ],
      "metadata": {
        "id": "_Y4AVglIzoIW"
      }
    },
    {
      "cell_type": "markdown",
      "source": [
        "System Design:\n",
        "\n",
        "IoT Devices: Simulated devices that send messages to a central controller.\n",
        "Central Controller: Receives and processes messages from devices.\n",
        "Encryption: Simulate two scenarios:\n",
        "No Encryption: Messages are sent in plain text.\n",
        "Message Encryption: Each message sent from the device is encrypted using a shared key."
      ],
      "metadata": {
        "id": "7z3qfz0q0KOV"
      }
    },
    {
      "cell_type": "markdown",
      "source": [
        "Plan:\n",
        "\n",
        "Simulate the system with and without encryption.\n",
        "Measure performance by timing how long it takes for the controller to process messages.\n",
        "Simulate a security breach by attempting to intercept and read the messages in both scenarios."
      ],
      "metadata": {
        "id": "d-mXY5LS0bkU"
      }
    },
    {
      "cell_type": "markdown",
      "source": [
        "Steps to Build the System:\n",
        "\n",
        "Simulate the IoT Device and Controller Communication.\n",
        "Implement Message Encryption using a simple encryption method (e.g., XOR encryption).\n",
        "Measure Performance in terms of response time with and without encryption.\n",
        "Simulate Interception of the message and evaluate security."
      ],
      "metadata": {
        "id": "EbeK3RXD0dL-"
      }
    },
    {
      "cell_type": "markdown",
      "source": [],
      "metadata": {
        "id": "MxnbFSemz3xN"
      }
    },
    {
      "cell_type": "markdown",
      "source": [
        "Prototype Code:\n",
        "1. Simulate IoT Device and Central Controller:"
      ],
      "metadata": {
        "id": "gPhCHajI0hsC"
      }
    },
    {
      "cell_type": "code",
      "source": [
        "import time\n",
        "\n",
        "# IoT Device class simulating sending messages\n",
        "class IoTDevice:\n",
        "    def __init__(self, device_id):\n",
        "        self.device_id = device_id\n",
        "\n",
        "    def send_message(self, message, controller, encrypted=False):\n",
        "        if encrypted:\n",
        "            encrypted_message = self.encrypt_message(message)\n",
        "            controller.receive_message(encrypted_message, encrypted=True)\n",
        "        else:\n",
        "            controller.receive_message(message)\n",
        "\n",
        "    def encrypt_message(self, message):\n",
        "        # Simple XOR encryption with a fixed key (for simplicity)\n",
        "        key = 5  # XOR encryption key\n",
        "        return ''.join(chr(ord(c) ^ key) for c in message)\n",
        "\n",
        "# Central Controller class simulating receiving and processing messages\n",
        "class CentralController:\n",
        "    def receive_message(self, message, encrypted=False):\n",
        "        if encrypted:\n",
        "            decrypted_message = self.decrypt_message(message)\n",
        "            print(f\"Received encrypted message: {message} (decrypted: {decrypted_message})\")\n",
        "        else:\n",
        "            print(f\"Received plain message: {message}\")\n",
        "\n",
        "    def decrypt_message(self, message):\n",
        "        # Simple XOR decryption (same as encryption because XOR is symmetric)\n",
        "        key = 5  # XOR decryption key (same as encryption)\n",
        "        return ''.join(chr(ord(c) ^ key) for c in message)\n"
      ],
      "metadata": {
        "id": "w_PSamNT0ljo"
      },
      "execution_count": null,
      "outputs": []
    },
    {
      "cell_type": "markdown",
      "source": [
        "2. Simulate Sending Plain and Encrypted Messages:"
      ],
      "metadata": {
        "id": "mQP8ROyZ0qch"
      }
    },
    {
      "cell_type": "code",
      "source": [
        "# Simulate IoT device and central controller communication\n",
        "\n",
        "# Create IoT device and central controller\n",
        "device = IoTDevice(device_id=\"Device_1\")\n",
        "controller = CentralController()\n",
        "\n",
        "# Send a plain text message (no encryption)\n",
        "plain_message = \"Hello, Controller!\"\n",
        "print(\"Sending plain message...\")\n",
        "start_time_plain = time.time()\n",
        "device.send_message(plain_message, controller, encrypted=False)\n",
        "end_time_plain = time.time()\n",
        "plain_time = end_time_plain - start_time_plain\n",
        "\n",
        "# Send an encrypted message\n",
        "encrypted_message = \"Hello, Controller!\"\n",
        "print(\"\\nSending encrypted message...\")\n",
        "start_time_encrypted = time.time()\n",
        "device.send_message(encrypted_message, controller, encrypted=True)\n",
        "end_time_encrypted = time.time()\n",
        "encrypted_time = end_time_encrypted - start_time_encrypted\n",
        "\n",
        "# Output response times\n",
        "print(f\"\\nPlain message transmission time: {plain_time} seconds\")\n",
        "print(f\"Encrypted message transmission time: {encrypted_time} seconds\")\n"
      ],
      "metadata": {
        "id": "TfXClItj0uKU"
      },
      "execution_count": null,
      "outputs": []
    },
    {
      "cell_type": "markdown",
      "source": [
        "3. Simulate Message Interception (Security Test):"
      ],
      "metadata": {
        "id": "Cs7K7bJ10xzp"
      }
    },
    {
      "cell_type": "code",
      "source": [
        "# Simulate message interception by an attacker\n",
        "def intercept_message(message, encrypted=False):\n",
        "    if encrypted:\n",
        "        print(f\"Intercepted encrypted message: {message}\")\n",
        "        # Attacker cannot easily decrypt the message without the key\n",
        "        print(\"Attacker failed to decrypt message (without knowing the key).\")\n",
        "    else:\n",
        "        print(f\"Intercepted plain message: {message}\")\n",
        "        # Attacker can easily read the plain message\n",
        "        print(\"Attacker successfully read the plain message.\")\n",
        "\n",
        "# Simulate interception of plain and encrypted messages\n",
        "print(\"\\nSimulating interception...\")\n",
        "intercept_message(plain_message, encrypted=False)\n",
        "intercept_message(device.encrypt_message(encrypted_message), encrypted=True)\n"
      ],
      "metadata": {
        "id": "SqcdwGmJ009f"
      },
      "execution_count": null,
      "outputs": []
    },
    {
      "cell_type": "markdown",
      "source": [
        "Explanation of Code:\n",
        "\n",
        "Device and Controller Interaction:\n",
        "\n",
        "The IoTDevice class simulates an IoT device that sends messages to a central controller.\n",
        "\n",
        "The CentralController class receives and processes the messages, either in plain text or encrypted form.\n"
      ],
      "metadata": {
        "id": "yFPRprvq04mV"
      }
    },
    {
      "cell_type": "markdown",
      "source": [
        "Encryption:\n",
        "\n",
        "A simple XOR encryption is used where each character in the message is XORed with a fixed key.\n",
        "The same XOR operation can be used for both encryption and decryption due to the symmetric nature of XOR."
      ],
      "metadata": {
        "id": "9Z-hCKu91NDC"
      }
    },
    {
      "cell_type": "markdown",
      "source": [
        "Plain vs. Encrypted Message:\n",
        "\n",
        "Two messages are sent:\n",
        "A plain message (no encryption).\n",
        "An encrypted message (using XOR encryption).\n",
        "The time taken to send and process each message is measured."
      ],
      "metadata": {
        "id": "zjg_5eUI1OiH"
      }
    },
    {
      "cell_type": "markdown",
      "source": [
        "Interception Simulation:\n",
        "\n",
        "An attacker tries to intercept and read both a plain message and an encrypted message.\n",
        "The attacker can read the plain message but cannot easily read the encrypted one without the encryption key."
      ],
      "metadata": {
        "id": "p0Z0y69g1Rax"
      }
    },
    {
      "cell_type": "code",
      "source": [
        "Sending plain message...\n",
        "Received plain message: Hello, Controller!\n",
        "\n",
        "Sending encrypted message...\n",
        "Received encrypted message: %..8&+%0(*.0%. (decrypted: Hello, Controller!)\n",
        "\n",
        "Plain message transmission time: 0.000013589859008789062 seconds\n",
        "Encrypted message transmission time: 0.000019073486328125 seconds\n",
        "\n",
        "Simulating interception...\n",
        "Intercepted plain message: Hello, Controller!\n",
        "Attacker successfully read the plain message.\n",
        "Intercepted encrypted message: %..8&+%0(*.0%.\n",
        "Attacker failed to decrypt message (without knowing the key).\n"
      ],
      "metadata": {
        "id": "53CsfM501aZS"
      },
      "execution_count": null,
      "outputs": []
    },
    {
      "cell_type": "markdown",
      "source": [
        "Analysis and Conclusion:\n",
        "\n",
        "Performance: The difference in transmission time between plain and encrypted messages is minimal, indicating that the simple XOR encryption used here doesn't significantly affect performance in a small-scale simulation.\n",
        "\n",
        "Security: In the plain text scenario, an attacker can easily intercept and read the message. However, with message encryption, the attacker cannot easily read the message without the encryption key.\n",
        "\n",
        "Conclusion: Encrypting individual messages improves security by preventing easy interception and decryption of messages, with negligible performance overhead in this small-scale experiment. However, more complex encryption schemes and larger systems may introduce greater performance trade-offs that would need further testing."
      ],
      "metadata": {
        "id": "_7f5kUFl1nk4"
      }
    }
  ]
}