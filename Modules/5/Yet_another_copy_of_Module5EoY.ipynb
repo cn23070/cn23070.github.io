{
  "nbformat": 4,
  "nbformat_minor": 0,
  "metadata": {
    "colab": {
      "provenance": [],
      "authorship_tag": "ABX9TyOWaXl/7+bUq5XFvLZy/2v0",
      "include_colab_link": true
    },
    "kernelspec": {
      "name": "python3",
      "display_name": "Python 3"
    },
    "language_info": {
      "name": "python"
    }
  },
  "cells": [
    {
      "cell_type": "markdown",
      "metadata": {
        "id": "view-in-github",
        "colab_type": "text"
      },
      "source": [
        "<a href=\"https://colab.research.google.com/github/cn23070/cn23070.github.io/blob/main/Yet_another_copy_of_Module5EoY.ipynb\" target=\"_parent\"><img src=\"https://colab.research.google.com/assets/colab-badge.svg\" alt=\"Open In Colab\"/></a>"
      ]
    },
    {
      "cell_type": "code",
      "execution_count": null,
      "metadata": {
        "id": "WHkL5zlXzCpd"
      },
      "outputs": [],
      "source": []
    },
    {
      "cell_type": "markdown",
      "source": [
        "Hypothesis:\n",
        "\n",
        "\"Does encrypting communication between a simulated IoT device and the central controller at the message level improve security without significantly affecting performance in a Smart Home Automation System?\""
      ],
      "metadata": {
        "id": "4MrOC3H5zhjO"
      }
    },
    {
      "cell_type": "markdown",
      "source": [
        "Objective:\n",
        "\n",
        "To investigate whether encrypting individual messages between IoT devices and a central controller improves security (by preventing data interception) while maintaining an acceptable level of performance in a Smart Home Automation System."
      ],
      "metadata": {
        "id": "_Y4AVglIzoIW"
      }
    },
    {
      "cell_type": "markdown",
      "source": [
        "System Design:\n",
        "\n",
        "IoT Devices: Simulated devices that send messages to a central controller.\n",
        "Central Controller: Receives and processes messages from devices.\n",
        "Encryption: Simulate two scenarios:\n",
        "No Encryption: Messages are sent in plain text.\n",
        "Message Encryption: Each message sent from the device is encrypted using a shared key."
      ],
      "metadata": {
        "id": "7z3qfz0q0KOV"
      }
    },
    {
      "cell_type": "markdown",
      "source": [
        "Plan:\n",
        "\n",
        "Simulate the system with and without encryption.\n",
        "Measure performance by timing how long it takes for the controller to process messages.\n",
        "Simulate a security breach by attempting to intercept and read the messages in both scenarios."
      ],
      "metadata": {
        "id": "d-mXY5LS0bkU"
      }
    },
    {
      "cell_type": "markdown",
      "source": [
        "Steps to Build the System:\n",
        "\n",
        "Simulate the IoT Device and Controller Communication.\n",
        "Implement Message Encryption using a simple encryption method (e.g., XOR encryption).\n",
        "Measure Performance in terms of response time with and without encryption.\n",
        "Simulate Interception of the message and evaluate security."
      ],
      "metadata": {
        "id": "EbeK3RXD0dL-"
      }
    },
    {
      "cell_type": "markdown",
      "source": [],
      "metadata": {
        "id": "MxnbFSemz3xN"
      }
    },
    {
      "cell_type": "markdown",
      "source": [
        "Prototype Code:\n",
        "1. Simulate IoT Device and Central Controller:"
      ],
      "metadata": {
        "id": "gPhCHajI0hsC"
      }
    },
    {
      "cell_type": "code",
      "source": [
        "import time\n",
        "\n",
        "# IoT Device class simulating sending messages\n",
        "class IoTDevice:\n",
        "    def __init__(self, device_id):\n",
        "        self.device_id = device_id\n",
        "\n",
        "    def send_message(self, message, controller, encrypted=False):\n",
        "        if encrypted:\n",
        "            encrypted_message = self.encrypt_message(message)\n",
        "            controller.receive_message(encrypted_message, encrypted=True)\n",
        "        else:\n",
        "            controller.receive_message(message)\n",
        "\n",
        "    def encrypt_message(self, message):\n",
        "        # Simple XOR encryption with a fixed key (for simplicity)\n",
        "        key = 5  # XOR encryption key\n",
        "        return ''.join(chr(ord(c) ^ key) for c in message)\n",
        "\n",
        "# Central Controller class simulating receiving and processing messages\n",
        "class CentralController:\n",
        "    def receive_message(self, message, encrypted=False):\n",
        "        if encrypted:\n",
        "            decrypted_message = self.decrypt_message(message)\n",
        "            print(f\"Received encrypted message: {message} (decrypted: {decrypted_message})\")\n",
        "        else:\n",
        "            print(f\"Received plain message: {message}\")\n",
        "\n",
        "    def decrypt_message(self, message):\n",
        "        # Simple XOR decryption (same as encryption because XOR is symmetric)\n",
        "        key = 5  # XOR decryption key (same as encryption)\n",
        "        return ''.join(chr(ord(c) ^ key) for c in message)\n"
      ],
      "metadata": {
        "id": "w_PSamNT0ljo"
      },
      "execution_count": null,
      "outputs": []
    },
    {
      "cell_type": "markdown",
      "source": [
        "2. Simulate Sending Plain and Encrypted Messages:"
      ],
      "metadata": {
        "id": "mQP8ROyZ0qch"
      }
    },
    {
      "cell_type": "code",
      "source": [
        "# Simulate IoT device and central controller communication\n",
        "\n",
        "# Create IoT device and central controller\n",
        "device = IoTDevice(device_id=\"Device_1\")\n",
        "controller = CentralController()\n",
        "\n",
        "# Send a plain text message (no encryption)\n",
        "plain_message = \"Hello, Controller!\"\n",
        "print(\"Sending plain message...\")\n",
        "start_time_plain = time.time()\n",
        "device.send_message(plain_message, controller, encrypted=False)\n",
        "end_time_plain = time.time()\n",
        "plain_time = end_time_plain - start_time_plain\n",
        "\n",
        "# Send an encrypted message\n",
        "encrypted_message = \"Hello, Controller!\"\n",
        "print(\"\\nSending encrypted message...\")\n",
        "start_time_encrypted = time.time()\n",
        "device.send_message(encrypted_message, controller, encrypted=True)\n",
        "end_time_encrypted = time.time()\n",
        "encrypted_time = end_time_encrypted - start_time_encrypted\n",
        "\n",
        "# Output response times\n",
        "print(f\"\\nPlain message transmission time: {plain_time} seconds\")\n",
        "print(f\"Encrypted message transmission time: {encrypted_time} seconds\")\n"
      ],
      "metadata": {
        "id": "TfXClItj0uKU"
      },
      "execution_count": null,
      "outputs": []
    },
    {
      "cell_type": "markdown",
      "source": [
        "3. Simulate Message Interception (Security Test):"
      ],
      "metadata": {
        "id": "Cs7K7bJ10xzp"
      }
    },
    {
      "cell_type": "code",
      "source": [
        "# Simulate message interception by an attacker\n",
        "def intercept_message(message, encrypted=False):\n",
        "    if encrypted:\n",
        "        print(f\"Intercepted encrypted message: {message}\")\n",
        "        # Attacker cannot easily decrypt the message without the key\n",
        "        print(\"Attacker failed to decrypt message (without knowing the key).\")\n",
        "    else:\n",
        "        print(f\"Intercepted plain message: {message}\")\n",
        "        # Attacker can easily read the plain message\n",
        "        print(\"Attacker successfully read the plain message.\")\n",
        "\n",
        "# Simulate interception of plain and encrypted messages\n",
        "print(\"\\nSimulating interception...\")\n",
        "intercept_message(plain_message, encrypted=False)\n",
        "intercept_message(device.encrypt_message(encrypted_message), encrypted=True)\n"
      ],
      "metadata": {
        "id": "SqcdwGmJ009f"
      },
      "execution_count": null,
      "outputs": []
    },
    {
      "cell_type": "markdown",
      "source": [
        "Explanation of Code:\n",
        "\n",
        "Device and Controller Interaction:\n",
        "\n",
        "The IoTDevice class simulates an IoT device that sends messages to a central controller.\n",
        "\n",
        "The CentralController class receives and processes the messages, either in plain text or encrypted form.\n"
      ],
      "metadata": {
        "id": "yFPRprvq04mV"
      }
    },
    {
      "cell_type": "markdown",
      "source": [
        "Encryption:\n",
        "\n",
        "A simple XOR encryption is used where each character in the message is XORed with a fixed key.\n",
        "The same XOR operation can be used for both encryption and decryption due to the symmetric nature of XOR."
      ],
      "metadata": {
        "id": "9Z-hCKu91NDC"
      }
    },
    {
      "cell_type": "markdown",
      "source": [
        "Plain vs. Encrypted Message:\n",
        "\n",
        "Two messages are sent:\n",
        "A plain message (no encryption).\n",
        "An encrypted message (using XOR encryption).\n",
        "The time taken to send and process each message is measured."
      ],
      "metadata": {
        "id": "zjg_5eUI1OiH"
      }
    },
    {
      "cell_type": "markdown",
      "source": [
        "Interception Simulation:\n",
        "\n",
        "An attacker tries to intercept and read both a plain message and an encrypted message.\n",
        "The attacker can read the plain message but cannot easily read the encrypted one without the encryption key."
      ],
      "metadata": {
        "id": "p0Z0y69g1Rax"
      }
    },
    {
      "cell_type": "code",
      "source": [
        "Sending plain message...\n",
        "Received plain message: Hello, Controller!\n",
        "\n",
        "Sending encrypted message...\n",
        "Received encrypted message: %..8&+%0(*.0%. (decrypted: Hello, Controller!)\n",
        "\n",
        "Plain message transmission time: 0.000013589859008789062 seconds\n",
        "Encrypted message transmission time: 0.000019073486328125 seconds\n",
        "\n",
        "Simulating interception...\n",
        "Intercepted plain message: Hello, Controller!\n",
        "Attacker successfully read the plain message.\n",
        "Intercepted encrypted message: %..8&+%0(*.0%.\n",
        "Attacker failed to decrypt message (without knowing the key).\n"
      ],
      "metadata": {
        "id": "53CsfM501aZS"
      },
      "execution_count": null,
      "outputs": []
    },
    {
      "cell_type": "markdown",
      "source": [
        "Analysis and Conclusion:\n",
        "\n",
        "Performance: The difference in transmission time between plain and encrypted messages is minimal, indicating that the simple XOR encryption used here doesn't significantly affect performance in a small-scale simulation.\n",
        "\n",
        "Security: In the plain text scenario, an attacker can easily intercept and read the message. However, with message encryption, the attacker cannot easily read the message without the encryption key.\n",
        "\n",
        "Conclusion: Encrypting individual messages improves security by preventing easy interception and decryption of messages, with negligible performance overhead in this small-scale experiment. However, more complex encryption schemes and larger systems may introduce greater performance trade-offs that would need further testing."
      ],
      "metadata": {
        "id": "_7f5kUFl1nk4"
      }
    },
    {
      "cell_type": "markdown",
      "source": [
        "Version 2 with multiple devices"
      ],
      "metadata": {
        "id": "9dHIBD3D3Umc"
      }
    },
    {
      "cell_type": "code",
      "source": [
        "import time\n",
        "import random\n",
        "import string\n",
        "\n",
        "\n",
        "class IoTDevice:\n",
        "    def __init__(self, device_id):\n",
        "        self.device_id = device_id\n",
        "        self.key = self.generate_key()\n",
        "\n",
        "    def generate_key(self):\n",
        "        # Generate a simple XOR key for encryption/decryption (fixed length for simplicity)\n",
        "        return ''.join(random.choice(string.ascii_letters + string.digits) for _ in range(8))\n",
        "\n",
        "    def encrypt_message(self, message):\n",
        "        # Encrypt the message using XOR with the key\n",
        "        encrypted_message = ''.join(chr(ord(c) ^ ord(k)) for c, k in zip(message, self.key))\n",
        "        return encrypted_message\n",
        "\n",
        "    def decrypt_message(self, encrypted_message):\n",
        "        # Decrypt the message using XOR with the key\n",
        "        decrypted_message = ''.join(chr(ord(c) ^ ord(k)) for c, k in zip(encrypted_message, self.key))\n",
        "        return decrypted_message\n",
        "\n",
        "    def send_message(self, message, controller, encrypted=True):\n",
        "        if encrypted:\n",
        "            encrypted_message = self.encrypt_message(message)\n",
        "            print(f\"Device {self.device_id} sending encrypted message...\")\n",
        "            start_time = time.time()\n",
        "            controller.receive_message(encrypted_message, self, encrypted=True)\n",
        "            end_time = time.time()\n",
        "            print(f\"Device {self.device_id} encrypted message transmission time: {end_time - start_time:.10f} seconds\\n\")\n",
        "        else:\n",
        "            print(f\"Device {self.device_id} sending plain message...\")\n",
        "            start_time = time.time()\n",
        "            controller.receive_message(message, self, encrypted=False)\n",
        "            end_time = time.time()\n",
        "            print(f\"Device {self.device_id} plain message transmission time: {end_time - start_time:.10f} seconds\\n\")\n",
        "\n",
        "\n",
        "class Controller:\n",
        "    def receive_message(self, message, device, encrypted=True):\n",
        "        if encrypted:\n",
        "            decrypted_message = device.decrypt_message(message)\n",
        "            print(f\"Controller received encrypted message: {message} (decrypted: {decrypted_message})\")\n",
        "        else:\n",
        "            print(f\"Controller received plain message: {message}\")\n",
        "\n",
        "    def intercept_message(self, message, encrypted=True):\n",
        "        if encrypted:\n",
        "            print(f\"Intercepted encrypted message: {message}\")\n",
        "            print(\"Attacker failed to decrypt the message without the key.\\n\")\n",
        "        else:\n",
        "            print(f\"Intercepted plain message: {message}\")\n",
        "            print(\"Attacker successfully read the plain message.\\n\")\n",
        "\n",
        "\n",
        "def simulate_devices(num_devices, controller, encrypted=True):\n",
        "    devices = [IoTDevice(device_id=i) for i in range(1, num_devices + 1)]\n",
        "\n",
        "    # Each device sends a message\n",
        "    for device in devices:\n",
        "        message = f\"Hello, Controller! This is device {device.device_id}\"\n",
        "        device.send_message(message, controller, encrypted=encrypted)\n",
        "\n",
        "\n",
        "if __name__ == \"__main__\":\n",
        "    # Create a central controller\n",
        "    controller = Controller()\n",
        "\n",
        "    # Number of IoT devices\n",
        "    num_devices = 7\n",
        "\n",
        "    print(\"Simulation with plain messages:\")\n",
        "    simulate_devices(num_devices, controller, encrypted=False)\n",
        "\n",
        "    print(\"\\nSimulation with encrypted messages:\")\n",
        "    simulate_devices(num_devices, controller, encrypted=True)\n"
      ],
      "metadata": {
        "colab": {
          "base_uri": "https://localhost:8080/"
        },
        "id": "1XSTesi63Yij",
        "outputId": "9ceca783-e69b-4383-c2b4-b8ff838bcfb7"
      },
      "execution_count": null,
      "outputs": [
        {
          "output_type": "stream",
          "name": "stdout",
          "text": [
            "Simulation with plain messages:\n",
            "Device 1 sending plain message...\n",
            "Controller received plain message: Hello, Controller! This is device 1\n",
            "Device 1 plain message transmission time: 0.0000171661 seconds\n",
            "\n",
            "Device 2 sending plain message...\n",
            "Controller received plain message: Hello, Controller! This is device 2\n",
            "Device 2 plain message transmission time: 0.0000145435 seconds\n",
            "\n",
            "Device 3 sending plain message...\n",
            "Controller received plain message: Hello, Controller! This is device 3\n",
            "Device 3 plain message transmission time: 0.0000138283 seconds\n",
            "\n",
            "Device 4 sending plain message...\n",
            "Controller received plain message: Hello, Controller! This is device 4\n",
            "Device 4 plain message transmission time: 0.0000138283 seconds\n",
            "\n",
            "Device 5 sending plain message...\n",
            "Controller received plain message: Hello, Controller! This is device 5\n",
            "Device 5 plain message transmission time: 0.0000140667 seconds\n",
            "\n",
            "Device 6 sending plain message...\n",
            "Controller received plain message: Hello, Controller! This is device 6\n",
            "Device 6 plain message transmission time: 0.0000138283 seconds\n",
            "\n",
            "Device 7 sending plain message...\n",
            "Controller received plain message: Hello, Controller! This is device 7\n",
            "Device 7 plain message transmission time: 0.0000135899 seconds\n",
            "\n",
            "\n",
            "Simulation with encrypted messages:\n",
            "Device 1 sending encrypted message...\n",
            "Controller received encrypted message: 2\u0002\u001c$?DNp (decrypted: Hello, C)\n",
            "Device 1 encrypted message transmission time: 0.0000216961 seconds\n",
            "\n",
            "Device 2 sending encrypted message...\n",
            "Controller received encrypted message: \u0001(\bX]mZ& (decrypted: Hello, C)\n",
            "Device 2 encrypted message transmission time: 0.0000195503 seconds\n",
            "\n",
            "Device 3 sending encrypted message...\n",
            "Controller received encrypted message: \u000e(\t\u0000;FX\u0016 (decrypted: Hello, C)\n",
            "Device 3 encrypted message transmission time: 0.0000176430 seconds\n",
            "\n",
            "Device 4 sending encrypted message...\n",
            "Controller received encrypted message: $/6$Wu\u0018q (decrypted: Hello, C)\n",
            "Device 4 encrypted message transmission time: 0.0000174046 seconds\n",
            "\n",
            "Device 5 sending encrypted message...\n",
            "Controller received encrypted message: z\u001f<!)yvt (decrypted: Hello, C)\n",
            "Device 5 encrypted message transmission time: 0.0000247955 seconds\n",
            "\n",
            "Device 6 sending encrypted message...\n",
            "Controller received encrypted message: Q\u000b.6oT\u001b (decrypted: Hello, C)\n",
            "Device 6 encrypted message transmission time: 0.0000181198 seconds\n",
            "\n",
            "Device 7 sending encrypted message...\n",
            "Controller received encrypted message: \u00111\u0005\u001b\bNQr (decrypted: Hello, C)\n",
            "Device 7 encrypted message transmission time: 0.0000190735 seconds\n",
            "\n"
          ]
        }
      ]
    },
    {
      "cell_type": "markdown",
      "source": [
        "Version 3"
      ],
      "metadata": {
        "id": "CGHgn-2H4akS"
      }
    },
    {
      "cell_type": "code",
      "source": [
        "import time\n",
        "import random\n",
        "import string\n",
        "import pandas as pd  # Import pandas for easy table creation\n",
        "\n",
        "\n",
        "class IoTDevice:\n",
        "    def __init__(self, device_id):\n",
        "        self.device_id = device_id\n",
        "        self.key = self.generate_key()\n",
        "\n",
        "    def generate_key(self):\n",
        "        # Generate a simple XOR key for encryption/decryption (fixed length for simplicity)\n",
        "        return ''.join(random.choice(string.ascii_letters + string.digits) for _ in range(8))\n",
        "\n",
        "    def encrypt_message(self, message):\n",
        "        # Encrypt the message using XOR with the key\n",
        "        encrypted_message = ''.join(chr(ord(c) ^ ord(k)) for c, k in zip(message, self.key))\n",
        "        return encrypted_message\n",
        "\n",
        "    def decrypt_message(self, encrypted_message):\n",
        "        # Decrypt the message using XOR with the key\n",
        "        decrypted_message = ''.join(chr(ord(c) ^ ord(k)) for c, k in zip(encrypted_message, self.key))\n",
        "        return decrypted_message\n",
        "\n",
        "    def send_message(self, message, controller, encrypted=True):\n",
        "        if encrypted:\n",
        "            encrypted_message = self.encrypt_message(message)\n",
        "            print(f\"Device {self.device_id} sending encrypted message...\")\n",
        "            # Simulate interception by the attacker\n",
        "            intercepted = controller.intercept_message(encrypted_message, encrypted=True)\n",
        "            start_time = time.time()\n",
        "            controller.receive_message(encrypted_message, self, encrypted=True)\n",
        "            end_time = time.time()\n",
        "            time_taken = end_time - start_time\n",
        "        else:\n",
        "            print(f\"Device {self.device_id} sending plain message...\")\n",
        "            # Simulate interception by the attacker\n",
        "            intercepted = controller.intercept_message(message, encrypted=False)\n",
        "            start_time = time.time()\n",
        "            controller.receive_message(message, self, encrypted=False)\n",
        "            end_time = time.time()\n",
        "            time_taken = end_time - start_time\n",
        "\n",
        "        # Record the message details for summary\n",
        "        controller.log_message(\n",
        "            device_id=self.device_id,\n",
        "            message=message if not encrypted else encrypted_message,\n",
        "            encrypted=encrypted,\n",
        "            intercepted=intercepted,\n",
        "            time_taken=time_taken\n",
        "        )\n",
        "\n",
        "\n",
        "class Controller:\n",
        "    def __init__(self):\n",
        "        self.message_log = []  # List to store message logs\n",
        "\n",
        "    def receive_message(self, message, device, encrypted=True):\n",
        "        if encrypted:\n",
        "            decrypted_message = device.decrypt_message(message)\n",
        "            print(f\"Controller received encrypted message: {message} (decrypted: {decrypted_message})\")\n",
        "        else:\n",
        "            print(f\"Controller received plain message: {message}\")\n",
        "\n",
        "    def intercept_message(self, message, encrypted=True):\n",
        "        if encrypted:\n",
        "            print(f\"\\n[ATTACKER] Intercepted encrypted message: {message}\")\n",
        "            print(\"[ATTACKER] Attacker failed to decrypt the message without the key.\\n\")\n",
        "            return True  # Message was intercepted\n",
        "        else:\n",
        "            print(f\"\\n[ATTACKER] Intercepted plain message: {message}\")\n",
        "            print(\"[ATTACKER] Attacker successfully read the plain message.\\n\")\n",
        "            return True  # Message was intercepted\n",
        "\n",
        "    def log_message(self, device_id, message, encrypted, intercepted, time_taken):\n",
        "        self.message_log.append({\n",
        "            'Device ID': device_id,\n",
        "            'Message': message,\n",
        "            'Encrypted': encrypted,\n",
        "            'Intercepted': intercepted,\n",
        "            'Time Taken (s)': time_taken\n",
        "        })\n",
        "\n",
        "    def print_summary(self):\n",
        "        # Convert message log to a DataFrame for a summary table\n",
        "        df = pd.DataFrame(self.message_log)\n",
        "        print(\"\\n--- Summary Table ---\")\n",
        "        print(df)\n",
        "\n",
        "\n",
        "def simulate_devices(num_devices, controller, encrypted=True):\n",
        "    devices = [IoTDevice(device_id=i) for i in range(1, num_devices + 1)]\n",
        "\n",
        "    # Each device sends a message\n",
        "    for device in devices:\n",
        "        message = f\"Hello, Controller! This is device {device.device_id}\"\n",
        "        device.send_message(message, controller, encrypted=encrypted)\n",
        "\n",
        "\n",
        "if __name__ == \"__main__\":\n",
        "    # Create a central controller\n",
        "    controller = Controller()\n",
        "\n",
        "    # Number of IoT devices\n",
        "    num_devices = 7\n",
        "\n",
        "    print(\"Simulation with plain messages:\")\n",
        "    simulate_devices(num_devices, controller, encrypted=False)\n",
        "\n",
        "    print(\"\\nSimulation with encrypted messages:\")\n",
        "    simulate_devices(num_devices, controller, encrypted=True)\n",
        "\n",
        "    # Print the summary of messages\n",
        "    controller.print_summary()\n"
      ],
      "metadata": {
        "colab": {
          "base_uri": "https://localhost:8080/"
        },
        "id": "X3z3Invr4b9M",
        "outputId": "030e8422-3f64-40a3-abb8-5c88c8492baa"
      },
      "execution_count": null,
      "outputs": [
        {
          "output_type": "stream",
          "name": "stdout",
          "text": [
            "Simulation with plain messages:\n",
            "Device 1 sending plain message...\n",
            "\n",
            "[ATTACKER] Intercepted plain message: Hello, Controller! This is device 1\n",
            "[ATTACKER] Attacker successfully read the plain message.\n",
            "\n",
            "Controller received plain message: Hello, Controller! This is device 1\n",
            "Device 2 sending plain message...\n",
            "\n",
            "[ATTACKER] Intercepted plain message: Hello, Controller! This is device 2\n",
            "[ATTACKER] Attacker successfully read the plain message.\n",
            "\n",
            "Controller received plain message: Hello, Controller! This is device 2\n",
            "Device 3 sending plain message...\n",
            "\n",
            "[ATTACKER] Intercepted plain message: Hello, Controller! This is device 3\n",
            "[ATTACKER] Attacker successfully read the plain message.\n",
            "\n",
            "Controller received plain message: Hello, Controller! This is device 3\n",
            "Device 4 sending plain message...\n",
            "\n",
            "[ATTACKER] Intercepted plain message: Hello, Controller! This is device 4\n",
            "[ATTACKER] Attacker successfully read the plain message.\n",
            "\n",
            "Controller received plain message: Hello, Controller! This is device 4\n",
            "Device 5 sending plain message...\n",
            "\n",
            "[ATTACKER] Intercepted plain message: Hello, Controller! This is device 5\n",
            "[ATTACKER] Attacker successfully read the plain message.\n",
            "\n",
            "Controller received plain message: Hello, Controller! This is device 5\n",
            "Device 6 sending plain message...\n",
            "\n",
            "[ATTACKER] Intercepted plain message: Hello, Controller! This is device 6\n",
            "[ATTACKER] Attacker successfully read the plain message.\n",
            "\n",
            "Controller received plain message: Hello, Controller! This is device 6\n",
            "Device 7 sending plain message...\n",
            "\n",
            "[ATTACKER] Intercepted plain message: Hello, Controller! This is device 7\n",
            "[ATTACKER] Attacker successfully read the plain message.\n",
            "\n",
            "Controller received plain message: Hello, Controller! This is device 7\n",
            "\n",
            "Simulation with encrypted messages:\n",
            "Device 1 sending encrypted message...\n",
            "\n",
            "[ATTACKER] Intercepted encrypted message: /\u0013\u000e_*tf3\n",
            "[ATTACKER] Attacker failed to decrypt the message without the key.\n",
            "\n",
            "Controller received encrypted message: /\u0013\u000e_*tf3 (decrypted: Hello, C)\n",
            "Device 2 sending encrypted message...\n",
            "\n",
            "[ATTACKER] Intercepted encrypted message: \u0004\u0007X\u0016\u0000c\u0015\n",
            "\n",
            "[ATTACKER] Attacker failed to decrypt the message without the key.\n",
            "\n",
            "Controller received encrypted message: \u0004\u0007X\u0016\u0000c\u0015\n",
            " (decrypted: Hello, C)\n",
            "Device 3 sending encrypted message...\n",
            "\n",
            "[ATTACKER] Intercepted encrypted message: q6\u0006&\r\u0015X,\n",
            "[ATTACKER] Attacker failed to decrypt the message without the key.\n",
            "\n",
            "Controller received encrypted message: q6\u0006&\r\u0015X, (decrypted: Hello, C)\n",
            "Device 4 sending encrypted message...\n",
            "\n",
            "[ATTACKER] Intercepted encrypted message: !4$\t8Xo\u0002\n",
            "[ATTACKER] Attacker failed to decrypt the message without the key.\n",
            "\n",
            "Controller received encrypted message: !4$\t8Xo\u0002 (decrypted: Hello, C)\n",
            "Device 5 sending encrypted message...\n",
            "\n",
            "[ATTACKER] Intercepted encrypted message: %\u00014\u0006\u001c|a-\n",
            "[ATTACKER] Attacker failed to decrypt the message without the key.\n",
            "\n",
            "Controller received encrypted message: %\u00014\u0006\u001c|a- (decrypted: Hello, C)\n",
            "Device 6 sending encrypted message...\n",
            "\n",
            "[ATTACKER] Intercepted encrypted message:  \u000b-\u0000[\u0018A)\n",
            "[ATTACKER] Attacker failed to decrypt the message without the key.\n",
            "\n",
            "Controller received encrypted message:  \u000b-\u0000[\u0018A) (decrypted: Hello, C)\n",
            "Device 7 sending encrypted message...\n",
            "\n",
            "[ATTACKER] Intercepted encrypted message: =\u000e^\u001c*\u001d\u0019;\n",
            "[ATTACKER] Attacker failed to decrypt the message without the key.\n",
            "\n",
            "Controller received encrypted message: =\u000e^\u001c*\u001d\u0019; (decrypted: Hello, C)\n",
            "\n",
            "--- Summary Table ---\n",
            "    Device ID                              Message  Encrypted  Intercepted  \\\n",
            "0           1  Hello, Controller! This is device 1      False         True   \n",
            "1           2  Hello, Controller! This is device 2      False         True   \n",
            "2           3  Hello, Controller! This is device 3      False         True   \n",
            "3           4  Hello, Controller! This is device 4      False         True   \n",
            "4           5  Hello, Controller! This is device 5      False         True   \n",
            "5           6  Hello, Controller! This is device 6      False         True   \n",
            "6           7  Hello, Controller! This is device 7      False         True   \n",
            "7           1                             /\u0013\u000e_*tf3       True         True   \n",
            "8           2                            \u0004\u0007X\u0016\u0000c\u0015\\n       True         True   \n",
            "9           3                            q6\u0006&\\r\u0015X,       True         True   \n",
            "10          4                            !4$\\t8Xo\u0002       True         True   \n",
            "11          5                             %\u00014\u0006\u001c|a-       True         True   \n",
            "12          6                              \u000b-\u0000[\u0018A)       True         True   \n",
            "13          7                             =\u000e^\u001c*\u001d\u0019;       True         True   \n",
            "\n",
            "    Time Taken (s)  \n",
            "0         0.000017  \n",
            "1         0.000029  \n",
            "2         0.000023  \n",
            "3         0.000024  \n",
            "4         0.000029  \n",
            "5         0.000022  \n",
            "6         0.000051  \n",
            "7         0.000032  \n",
            "8         0.000029  \n",
            "9         0.000029  \n",
            "10        0.000402  \n",
            "11        0.000057  \n",
            "12        0.000034  \n",
            "13        0.000068  \n"
          ]
        }
      ]
    }
  ]
}